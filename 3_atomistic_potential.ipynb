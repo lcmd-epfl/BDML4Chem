{
 "cells": [
  {
   "cell_type": "markdown",
   "source": "# Machine learning in chemistry\n\n## Atomistic simulation environment (ASE)\n\nThe ASE is a set of tools and Python modules for setting up, manipulating, running, visualizing and analyzing atomistic simulations. It is interfaced with many ab initio and MD codes through simple calculators.\n\nMore information and manual: https://wiki.fysik.dtu.dk/ase/\n\nFor example, it can read and process xyz coordinates. \n\nFYI: An xyz file contains the cartesian coordinates of the atomic positions of each atom in a molecular system.\n\nLet's start with simple alanine:\n\n```\n 13\n \n C    -0.779297    -1.210972     1.994359\n C     0.000000     0.000000     1.460000\n C     1.403962     0.000000     2.015868\n O     2.161436    -0.947142     1.883370\n N    -0.000000    -0.000000    -0.000000\n O     1.837767     0.962613     2.627089\n H     0.423874    -0.764689    -0.525339\n H    -0.501722     0.920815     1.792226\n H    -1.802818    -1.214186     1.591378\n H    -0.834094    -1.175236     3.092412\n H    -0.285041    -2.146224     1.692672\n H     2.730544     0.787839     2.900774\n H    -0.872821     0.015235    -0.504000\n```\n",
   "metadata": {
    "tags": [],
    "cell_id": "00001-c4677168-3058-4be9-8eb9-d3aab8c0dbb7",
    "deepnote_cell_type": "markdown"
   }
  },
  {
   "cell_type": "code",
   "metadata": {
    "tags": [],
    "cell_id": "00001-3474caea-0b64-4a0b-b066-4872fb6f8f7d",
    "deepnote_to_be_reexecuted": false,
    "source_hash": "f3fd4808",
    "execution_start": 1622969830753,
    "execution_millis": 7381,
    "deepnote_cell_type": "code"
   },
   "source": "#Installation of ase\n!pip install ase==3.21.1",
   "execution_count": 1,
   "outputs": [
    {
     "name": "stdout",
     "text": "Collecting ase==3.21.1\n  Downloading ase-3.21.1-py3-none-any.whl (2.2 MB)\n\u001b[K     |████████████████████████████████| 2.2 MB 18.6 MB/s \n\u001b[?25hRequirement already satisfied: matplotlib>=2.0.0 in /shared-libs/python3.7/py/lib/python3.7/site-packages (from ase==3.21.1) (3.4.2)\nRequirement already satisfied: scipy>=0.18.1 in /shared-libs/python3.7/py/lib/python3.7/site-packages (from ase==3.21.1) (1.6.3)\nRequirement already satisfied: numpy>=1.11.3 in /shared-libs/python3.7/py/lib/python3.7/site-packages (from ase==3.21.1) (1.19.5)\nRequirement already satisfied: cycler>=0.10 in /shared-libs/python3.7/py/lib/python3.7/site-packages (from matplotlib>=2.0.0->ase==3.21.1) (0.10.0)\nRequirement already satisfied: python-dateutil>=2.7 in /shared-libs/python3.7/py-core/lib/python3.7/site-packages (from matplotlib>=2.0.0->ase==3.21.1) (2.8.1)\nRequirement already satisfied: pillow>=6.2.0 in /shared-libs/python3.7/py/lib/python3.7/site-packages (from matplotlib>=2.0.0->ase==3.21.1) (8.2.0)\nRequirement already satisfied: pyparsing>=2.2.1 in /shared-libs/python3.7/py-core/lib/python3.7/site-packages (from matplotlib>=2.0.0->ase==3.21.1) (2.4.7)\nRequirement already satisfied: kiwisolver>=1.0.1 in /shared-libs/python3.7/py/lib/python3.7/site-packages (from matplotlib>=2.0.0->ase==3.21.1) (1.3.1)\nRequirement already satisfied: six in /shared-libs/python3.7/py-core/lib/python3.7/site-packages (from cycler>=0.10->matplotlib>=2.0.0->ase==3.21.1) (1.16.0)\nInstalling collected packages: ase\nSuccessfully installed ase-3.21.1\n",
     "output_type": "stream"
    }
   ]
  },
  {
   "cell_type": "code",
   "metadata": {
    "tags": [],
    "cell_id": "00000-6c8e43fc-0221-4466-a80f-7d995a7cf284",
    "deepnote_to_be_reexecuted": false,
    "source_hash": "df520975",
    "execution_start": 1622972515315,
    "execution_millis": 4,
    "deepnote_cell_type": "code"
   },
   "source": "import ase\nimport ase.io as aio\nfrom ase.visualize import view\nimport numpy as np  #The numpy package\nimport pandas as pd # The pandas data framework\nimport matplotlib.pyplot as plt # The plotting library\nimport sklearn as sklearn # General purpose ML framework for python\nfrom qml.math import cho_solve\nfrom qml.kernels import gaussian_kernel",
   "execution_count": 51,
   "outputs": []
  },
  {
   "cell_type": "code",
   "metadata": {
    "tags": [],
    "cell_id": "00002-357aae24-e2b2-4710-b5c5-8b80738669a8",
    "deepnote_to_be_reexecuted": false,
    "source_hash": "117bdac2",
    "execution_start": 1622969842092,
    "execution_millis": 57,
    "deepnote_cell_type": "code"
   },
   "source": "# Read xyz for alanine \nalanine = aio.read('./data/alanine.xyz')\n#ASE can also visualize molecules\nase.visualize.view(alanine, viewer='x3d')\n",
   "execution_count": 3,
   "outputs": [
    {
     "output_type": "execute_result",
     "execution_count": 3,
     "data": {
      "text/plain": "<IPython.core.display.HTML object>",
      "text/html": "<html>\n\n <head>\n\n  <title>ASE atomic visualization</title>\n\n  <link rel=\"stylesheet\" type=\"text/css\"\n\n   href=\"https://www.x3dom.org/x3dom/release/x3dom.css\">\n\n  </link>\n\n  <script type=\"text/javascript\"\n\n   src=\"https://www.x3dom.org/x3dom/release/x3dom.js\">\n\n  </script>\n\n </head>\n\n <body>\n\n  <X3D>\n\n   <Scene>\n\n    <Transform translation=\"-0.78 -1.21 1.99\">\n\n     <Shape>\n\n      <Appearance>\n\n       <Material diffuseColor=\"0.565 0.565 0.565\" specularColor=\"0.5 0.5 0.5\">\n\n       </Material>\n\n      </Appearance>\n\n      <Sphere radius=\"0.76\">\n\n      </Sphere>\n\n     </Shape>\n\n    </Transform>\n\n    <Transform translation=\"0.00 0.00 1.46\">\n\n     <Shape>\n\n      <Appearance>\n\n       <Material diffuseColor=\"0.565 0.565 0.565\" specularColor=\"0.5 0.5 0.5\">\n\n       </Material>\n\n      </Appearance>\n\n      <Sphere radius=\"0.76\">\n\n      </Sphere>\n\n     </Shape>\n\n    </Transform>\n\n    <Transform translation=\"1.40 0.00 2.02\">\n\n     <Shape>\n\n      <Appearance>\n\n       <Material diffuseColor=\"0.565 0.565 0.565\" specularColor=\"0.5 0.5 0.5\">\n\n       </Material>\n\n      </Appearance>\n\n      <Sphere radius=\"0.76\">\n\n      </Sphere>\n\n     </Shape>\n\n    </Transform>\n\n    <Transform translation=\"2.16 -0.95 1.88\">\n\n     <Shape>\n\n      <Appearance>\n\n       <Material diffuseColor=\"1.000 0.051 0.051\" specularColor=\"0.5 0.5 0.5\">\n\n       </Material>\n\n      </Appearance>\n\n      <Sphere radius=\"0.66\">\n\n      </Sphere>\n\n     </Shape>\n\n    </Transform>\n\n    <Transform translation=\"-0.00 -0.00 -0.00\">\n\n     <Shape>\n\n      <Appearance>\n\n       <Material diffuseColor=\"0.188 0.314 0.973\" specularColor=\"0.5 0.5 0.5\">\n\n       </Material>\n\n      </Appearance>\n\n      <Sphere radius=\"0.71\">\n\n      </Sphere>\n\n     </Shape>\n\n    </Transform>\n\n    <Transform translation=\"1.84 0.96 2.63\">\n\n     <Shape>\n\n      <Appearance>\n\n       <Material diffuseColor=\"1.000 0.051 0.051\" specularColor=\"0.5 0.5 0.5\">\n\n       </Material>\n\n      </Appearance>\n\n      <Sphere radius=\"0.66\">\n\n      </Sphere>\n\n     </Shape>\n\n    </Transform>\n\n    <Transform translation=\"0.42 -0.76 -0.53\">\n\n     <Shape>\n\n      <Appearance>\n\n       <Material diffuseColor=\"1.000 1.000 1.000\" specularColor=\"0.5 0.5 0.5\">\n\n       </Material>\n\n      </Appearance>\n\n      <Sphere radius=\"0.31\">\n\n      </Sphere>\n\n     </Shape>\n\n    </Transform>\n\n    <Transform translation=\"-0.50 0.92 1.79\">\n\n     <Shape>\n\n      <Appearance>\n\n       <Material diffuseColor=\"1.000 1.000 1.000\" specularColor=\"0.5 0.5 0.5\">\n\n       </Material>\n\n      </Appearance>\n\n      <Sphere radius=\"0.31\">\n\n      </Sphere>\n\n     </Shape>\n\n    </Transform>\n\n    <Transform translation=\"-1.80 -1.21 1.59\">\n\n     <Shape>\n\n      <Appearance>\n\n       <Material diffuseColor=\"1.000 1.000 1.000\" specularColor=\"0.5 0.5 0.5\">\n\n       </Material>\n\n      </Appearance>\n\n      <Sphere radius=\"0.31\">\n\n      </Sphere>\n\n     </Shape>\n\n    </Transform>\n\n    <Transform translation=\"-0.83 -1.18 3.09\">\n\n     <Shape>\n\n      <Appearance>\n\n       <Material diffuseColor=\"1.000 1.000 1.000\" specularColor=\"0.5 0.5 0.5\">\n\n       </Material>\n\n      </Appearance>\n\n      <Sphere radius=\"0.31\">\n\n      </Sphere>\n\n     </Shape>\n\n    </Transform>\n\n    <Transform translation=\"-0.29 -2.15 1.69\">\n\n     <Shape>\n\n      <Appearance>\n\n       <Material diffuseColor=\"1.000 1.000 1.000\" specularColor=\"0.5 0.5 0.5\">\n\n       </Material>\n\n      </Appearance>\n\n      <Sphere radius=\"0.31\">\n\n      </Sphere>\n\n     </Shape>\n\n    </Transform>\n\n    <Transform translation=\"2.73 0.79 2.90\">\n\n     <Shape>\n\n      <Appearance>\n\n       <Material diffuseColor=\"1.000 1.000 1.000\" specularColor=\"0.5 0.5 0.5\">\n\n       </Material>\n\n      </Appearance>\n\n      <Sphere radius=\"0.31\">\n\n      </Sphere>\n\n     </Shape>\n\n    </Transform>\n\n    <Transform translation=\"-0.87 0.02 -0.50\">\n\n     <Shape>\n\n      <Appearance>\n\n       <Material diffuseColor=\"1.000 1.000 1.000\" specularColor=\"0.5 0.5 0.5\">\n\n       </Material>\n\n      </Appearance>\n\n      <Sphere radius=\"0.31\">\n\n      </Sphere>\n\n     </Shape>\n\n    </Transform>\n\n   </Scene>\n\n  </X3D>\n\n </body>\n\n</html>\n\n"
     },
     "metadata": {}
    }
   ]
  },
  {
   "cell_type": "markdown",
   "source": "Ase can easily print information about the position of the elements, atomic numbers, distances between elements, bond angles etc.",
   "metadata": {
    "tags": [],
    "cell_id": "00005-1317a924-01e6-416b-a3ea-a511f2e6eefb",
    "deepnote_cell_type": "markdown"
   }
  },
  {
   "cell_type": "code",
   "metadata": {
    "tags": [],
    "cell_id": "00006-11d6f9df-e41b-41d4-89c2-abbd0b3e5589",
    "deepnote_to_be_reexecuted": false,
    "source_hash": "bcf72b47",
    "execution_start": 1622970001043,
    "execution_millis": 12,
    "deepnote_cell_type": "code"
   },
   "source": "alanine.positions",
   "execution_count": 9,
   "outputs": [
    {
     "output_type": "execute_result",
     "execution_count": 9,
     "data": {
      "text/plain": "array([[-0.779297, -1.210972,  1.994359],\n       [ 0.      ,  0.      ,  1.46    ],\n       [ 1.403962,  0.      ,  2.015868],\n       [ 2.161436, -0.947142,  1.88337 ],\n       [-0.      , -0.      , -0.      ],\n       [ 1.837767,  0.962613,  2.627089],\n       [ 0.423874, -0.764689, -0.525339],\n       [-0.501722,  0.920815,  1.792226],\n       [-1.802818, -1.214186,  1.591378],\n       [-0.834094, -1.175236,  3.092412],\n       [-0.285041, -2.146224,  1.692672],\n       [ 2.730544,  0.787839,  2.900774],\n       [-0.872821,  0.015235, -0.504   ]])"
     },
     "metadata": {}
    }
   ]
  },
  {
   "cell_type": "code",
   "metadata": {
    "tags": [],
    "cell_id": "00007-2b5c8f3e-a248-4534-969a-ef7b66e0763b",
    "deepnote_to_be_reexecuted": false,
    "source_hash": "88c26f46",
    "execution_start": 1622970002740,
    "execution_millis": 12,
    "deepnote_cell_type": "code"
   },
   "source": "alanine.get_atomic_numbers()",
   "execution_count": 10,
   "outputs": [
    {
     "output_type": "execute_result",
     "execution_count": 10,
     "data": {
      "text/plain": "array([6, 6, 6, 8, 7, 8, 1, 1, 1, 1, 1, 1, 1])"
     },
     "metadata": {}
    }
   ]
  },
  {
   "cell_type": "markdown",
   "source": "## Molecular representations\n\nML techniques enables to learn the relationships between set of molecules and known target properies, e.g. atomization energies, HOMO, LUMO, electronic densities etc. If the model is trained smartly, it is later able to predict these properties for the molecule which are nor contained in the original set.\n\nIn theory, molecules for the training could be represented by any descriptior, for example xyz coordinates, SMILES, number of atoms etc. However, the best molecular representations have some desirable properites as ...\n\nThere are many representations designed for the ML. In this tutorial, we will discuss the most popular ones, namely The Coulomb matrix, Bag-of-bonds and SLATM. All these representations are part of a QML toolkit. http://www.qmlcode.org/index.html",
   "metadata": {
    "tags": [],
    "cell_id": "00005-7d733293-a402-4ccd-932e-7c4ad071421c",
    "deepnote_cell_type": "markdown"
   }
  },
  {
   "cell_type": "code",
   "metadata": {
    "tags": [],
    "cell_id": "00005-d50141bb-c835-430a-8673-10922c76d13d",
    "deepnote_to_be_reexecuted": false,
    "source_hash": "d01c94d3",
    "execution_start": 1622970005116,
    "execution_millis": 3640,
    "deepnote_cell_type": "code"
   },
   "source": "#Installation of Quantum Machine Learning (qml) library \n\n!pip install qml",
   "execution_count": 11,
   "outputs": [
    {
     "name": "stdout",
     "text": "Requirement already satisfied: qml in /root/venv/lib/python3.7/site-packages (0.4.0.27)\r\n",
     "output_type": "stream"
    }
   ]
  },
  {
   "cell_type": "markdown",
   "source": "\n\n### The Coulomb matrix (CM)\n\nRupp et al. (2012) Phys Rev Lett https://doi.org/10.1103/PhysRevLett.108.058301\n\nIn the CM, structure of the molecule is represented by so called Coulomb matrix **M**, which is defined as \n\n\n $ M_{ij} = \\begin{dcases}\n        0.5~Z_I^{2.4} & \\mathrm{for}~I = J \\\\\n        \\frac{Z_IZ_J}{||\\mathbf{R}_I - \\mathbf{R}_J||} & \\mathrm{for}~I \\neq J \\\\\n    \\end{dcases} $ \n   \nwhere $Z_I$ is a nuclear charge of the atom $I$ in the molecule and $\\mathbf{R}_I$ is the set of Cartesian coordinates. The off-diagonal elements therefore correspond to the Coulomb repulsion between atoms I and J, while diagonal elements encode a polynomial fit of atomic energies to nuclear charge.\n\nFor the alanine molecule defined above, CM representation has a form (only lower triangular matrix is printed):\n```\n36.8581052\n23.43749732 36.8581052\n14.41900445 23.84106728 36.8581052\n16.24569179 20.02064702 39.34425504 73.51669472\n17.0737     28.76712329 17.09687195 18.54755536 53.3587074\n13.87153295 20.16502713 39.34424014 30.84545566 16.72901287 73.51669472\n 2.12189506  2.76583189  2.12091545  2.68851906  6.86274675  2.07108902  0.5   \n 2.77872448  5.45454693  2.81918672  2.45834253  3.37111687  3.22016937  0.33206726  0.5\n 5.45454714  2.75540866  1.7365516   2.00805581  2.59850131  1.83219403  0.32206669  0.39868111  0.5\n 5.45454509  2.75540842  2.18376512  2.47038225  2.05174476  2.31657765  0.25959446  0.40179166  0.55962536  0.5\n 5.45454468  2.75540822  2.1816791   2.92912333  2.54711145  2.06254654  0.36933897  0.32506637  0.56054284  0.55870726  0.5\n 1.44943531  1.88307272  3.3733594   3.82728952  1.72374841  8.42105169  0.22663376  0.29242635  0.19509088  0.24546229  0.22844397  0.5\n 2.15468985  2.79165065  1.76671616  2.01055671  6.94444238  1.88308126  0.66079628  0.40062728  0.38441699  0.26395517  0.31874369  0.19930903  0.5       \n\n```\n\n",
   "metadata": {
    "tags": [],
    "cell_id": "00004-678d9f06-ed54-4959-99b8-fb2e1e18019e",
    "deepnote_cell_type": "markdown"
   }
  },
  {
   "cell_type": "markdown",
   "source": "This matrix can be implemented from scratch, for example:",
   "metadata": {
    "tags": [],
    "cell_id": "00008-de450598-e9ee-4ac5-af87-2dd23b15309a",
    "deepnote_cell_type": "markdown"
   }
  },
  {
   "cell_type": "code",
   "metadata": {
    "tags": [],
    "cell_id": "00008-864bff26-857d-4b63-b5bc-b3905265c125",
    "deepnote_to_be_reexecuted": false,
    "source_hash": "eaea749c",
    "execution_start": 1622970116001,
    "execution_millis": 77,
    "deepnote_cell_type": "code"
   },
   "source": "import numpy as np\nimport sklearn\nfrom sklearn import metrics\n\ncm = 1 / sklearn.metrics.pairwise_distances(alanine.positions) \ncm *= alanine.get_atomic_numbers() * alanine.get_atomic_numbers()[:, np.newaxis]\ncm[np.diag_indices_from(cm)] =  0.5 * alanine.get_atomic_numbers() ** 2.4\ncm[np.tril_indices_from(cm)]",
   "execution_count": 12,
   "outputs": [
    {
     "name": "stderr",
     "text": "/shared-libs/python3.7/py-core/lib/python3.7/site-packages/ipykernel_launcher.py:5: RuntimeWarning: divide by zero encountered in true_divide\n  \"\"\"\n",
     "output_type": "stream"
    },
    {
     "output_type": "execute_result",
     "execution_count": 12,
     "data": {
      "text/plain": "array([36.8581052 , 23.43749732, 36.8581052 , 14.41900445, 23.84106728,\n       36.8581052 , 16.24569179, 20.02064702, 39.34425504, 73.51669472,\n       17.0737    , 28.76712329, 17.09687195, 18.54755536, 53.3587074 ,\n       13.87153295, 20.16502713, 39.34424014, 30.84545566, 16.72901287,\n       73.51669472,  2.12189506,  2.76583189,  2.12091545,  2.68851906,\n        6.86274675,  2.07108902,  0.5       ,  2.77872448,  5.45454693,\n        2.81918672,  2.45834253,  3.37111687,  3.22016937,  0.33206726,\n        0.5       ,  5.45454714,  2.75540866,  1.7365516 ,  2.00805581,\n        2.59850131,  1.83219403,  0.32206669,  0.39868111,  0.5       ,\n        5.45454509,  2.75540842,  2.18376512,  2.47038225,  2.05174476,\n        2.31657765,  0.25959446,  0.40179166,  0.55962536,  0.5       ,\n        5.45454468,  2.75540822,  2.1816791 ,  2.92912333,  2.54711145,\n        2.06254654,  0.36933897,  0.32506637,  0.56054284,  0.55870726,\n        0.5       ,  1.44943531,  1.88307272,  3.3733594 ,  3.82728952,\n        1.72374841,  8.42105169,  0.22663376,  0.29242635,  0.19509088,\n        0.24546229,  0.22844397,  0.5       ,  2.15468985,  2.79165065,\n        1.76671616,  2.01055671,  6.94444238,  1.88308126,  0.66079628,\n        0.40062728,  0.38441699,  0.26395517,  0.31874369,  0.19930903,\n        0.5       ])"
     },
     "metadata": {}
    }
   ]
  },
  {
   "cell_type": "markdown",
   "source": "The same matrix could be easily generated by qml toolkit:",
   "metadata": {
    "tags": [],
    "cell_id": "00014-abc0c1db-d697-48ae-a515-c86fe38c41a4",
    "deepnote_cell_type": "markdown"
   }
  },
  {
   "cell_type": "code",
   "metadata": {
    "tags": [],
    "cell_id": "00008-9725b16f-34cc-4540-9d2d-39bc31f81864",
    "deepnote_to_be_reexecuted": false,
    "source_hash": "409af33",
    "execution_start": 1622970123826,
    "execution_millis": 114,
    "deepnote_cell_type": "code"
   },
   "source": "#Import of necessary libraries\nimport qml\nimport numpy as np\n\nALA = qml.Compound(xyz=\"./data/alanine.xyz\") \nALA.generate_coulomb_matrix(size=13, sorting = 'unsorted')\n\nnp.set_printoptions(linewidth=100)\nprint(ALA.representation)",
   "execution_count": 13,
   "outputs": [
    {
     "name": "stdout",
     "text": "[36.8581052  23.43749732 36.8581052  14.41900445 23.84106728 36.8581052  16.24569179 20.02064702\n 39.34425504 73.51669472 17.0737     28.76712329 17.09687195 18.54755536 53.3587074  13.87153295\n 20.16502713 39.34424014 30.84545566 16.72901287 73.51669472  2.12189506  2.76583189  2.12091545\n  2.68851906  6.86274675  2.07108902  0.5         2.77872448  5.45454693  2.81918672  2.45834253\n  3.37111687  3.22016937  0.33206726  0.5         5.45454714  2.75540866  1.7365516   2.00805581\n  2.59850131  1.83219403  0.32206669  0.39868111  0.5         5.45454509  2.75540842  2.18376512\n  2.47038225  2.05174476  2.31657765  0.25959446  0.40179166  0.55962536  0.5         5.45454468\n  2.75540822  2.1816791   2.92912333  2.54711145  2.06254654  0.36933897  0.32506637  0.56054284\n  0.55870726  0.5         1.44943531  1.88307272  3.3733594   3.82728952  1.72374841  8.42105169\n  0.22663376  0.29242635  0.19509088  0.24546229  0.22844397  0.5         2.15468985  2.79165065\n  1.76671616  2.01055671  6.94444238  1.88308126  0.66079628  0.40062728  0.38441699  0.26395517\n  0.31874369  0.19930903  0.5       ]\n",
     "output_type": "stream"
    }
   ]
  },
  {
   "cell_type": "markdown",
   "source": "### Bag-of-bonds (BoB)\n\nHansen et al. (2015) J. Phys. Chem. Lett. https://doi.org/10.1021/acs.jpclett.5b00831\n\nRepresentation BoB contains the same information as CM, but the items of the matrix are group diffrently. \n\nFor alanine:\n\n<img src=\"./data/bob.png\" alt=\"bob\" width=\"700\"/>\n\n1) Used nuclear charges for each Coulomb matrix element, 2) Coulomb matrix entries for alanine sorted into bags, 3) the BoB vector -\nobtained by concatenating the bags and adding zeros to allow for dealing with other molecules with larger bags.\n",
   "metadata": {
    "tags": [],
    "cell_id": "00008-0f86bbee-82be-4af7-821f-2aa393ba6d8e",
    "deepnote_cell_type": "markdown"
   }
  },
  {
   "cell_type": "code",
   "metadata": {
    "tags": [],
    "cell_id": "00016-9fa06298-4b44-4d70-a3b6-c811591c10e5",
    "deepnote_to_be_reexecuted": false,
    "source_hash": "6f27b33e",
    "execution_start": 1622970134430,
    "execution_millis": 5,
    "deepnote_cell_type": "code"
   },
   "source": "ALA = qml.Compound(xyz=\"./data/alanine.xyz\")\nALA.generate_bob(asize={\"O\":3, \"N\":2, \"C\":4, \"H\":8})\nprint(ALA.representation)\n",
   "execution_count": 14,
   "outputs": [
    {
     "name": "stdout",
     "text": "[53.3587074   0.          0.         18.54755536 16.72901287  0.          0.          0.\n  0.         28.76712329 17.09687195 17.0737      0.          0.          0.          0.\n  0.          6.94444238  6.86274675  3.37111687  2.59850131  2.54711145  2.05174476  1.72374841\n  0.          0.          0.          0.          0.          0.          0.          0.\n  0.         73.51669472 73.51669472  0.         30.84545566  0.          0.         39.34425504\n 39.34424014 20.16502713 20.02064702 16.24569179 13.87153295  0.          0.          0.\n  0.          0.          0.          8.42105169  3.82728952  3.22016937  2.92912333  2.68851906\n  2.47038225  2.45834253  2.31657765  2.07108902  2.06254654  2.01055671  2.00805581  1.88308126\n  1.83219403  0.          0.          0.          0.          0.          0.          0.\n  0.          0.          0.         36.8581052  36.8581052  36.8581052   0.         23.84106728\n 23.43749732 14.41900445  0.          0.          0.          5.45454714  5.45454693  5.45454509\n  5.45454468  3.3733594   2.81918672  2.79165065  2.77872448  2.76583189  2.75540866  2.75540842\n  2.75540822  2.18376512  2.1816791   2.15468985  2.12189506  2.12091545  1.88307272  1.76671616\n  1.7365516   1.44943531  0.          0.          0.          0.          0.          0.\n  0.          0.          0.          0.          0.          0.5         0.5         0.5\n  0.5         0.5         0.5         0.5         0.          0.66079628  0.56054284  0.55962536\n  0.55870726  0.40179166  0.40062728  0.39868111  0.38441699  0.36933897  0.33206726  0.32506637\n  0.32206669  0.31874369  0.29242635  0.26395517  0.25959446  0.24546229  0.22844397  0.22663376\n  0.19930903  0.19509088  0.          0.          0.          0.          0.          0.\n  0.        ]\n",
     "output_type": "stream"
    }
   ]
  },
  {
   "cell_type": "markdown",
   "source": "### The Spectrum of London and Axillrod-Teller-Muto potential (SLATM)\n\nWhile the CM and BoB representation are very intuitive and easy to compute and implement, they have several drawbacks. They both suffer from permutational variance, meaning that permutation of atoms can generate different representations, even if this effect is attenuated by different sorting strategies. \n\nTo overcome these inherent flaws of CM and BoB, a more sohpisticated representation named SLATM was developped. The Spectrum of London and Axillrod-Teller-Muto (SLATM) potential is a representation constructed using one-, two- and three-body potential expressions. The \"one-body\" terms represent how many atoms of each atomtype are in a  molecule. The two-body terms group all the London interactions between different atomtypes, and the three-body terms group all the ATM interactions.\n\nAll these terms are concatenated one after the other to create the SLATM representation of a molecule. This representation is permutationally invariant, as all different sortings of the atoms in a molecule generate the same representation. Most importantly, different systems can be compared effectively by evaluating the difference in each of the n-body terms in the representation. \n\nAs an example, below you can see represented the different terms of the SLATM representation of a molecule.\n\nHuang et al. (2020) Nat. Chem. https://www.nature.com/articles/s41557-020-0527-z\n\nFaber et al. (2018) J. Chem. Phys.  https://aip.scitation.org/doi/pdf/10.1063/1.5020710\n\n<img src=\"./data/slatm.png\" alt=\"slatm\" width=\"900\"/>",
   "metadata": {
    "tags": [],
    "cell_id": "00016-00bbf9bc-8f95-4c99-8468-303a4e130749",
    "deepnote_cell_type": "markdown"
   }
  },
  {
   "cell_type": "markdown",
   "source": "Let's see now the full representation of Alanine",
   "metadata": {
    "tags": [],
    "cell_id": "00017-6304296f-e311-4c55-ba7f-fe183c0936f6",
    "deepnote_cell_type": "markdown"
   },
   "outputs": [],
   "execution_count": null
  },
  {
   "cell_type": "code",
   "metadata": {
    "tags": [],
    "cell_id": "00018-7baaa543-e256-480a-8f2d-49d636f39399",
    "deepnote_to_be_reexecuted": false,
    "source_hash": "7fd54e3a",
    "execution_start": 1622971077402,
    "execution_millis": 0,
    "deepnote_cell_type": "code"
   },
   "source": "import qml.representations \nfrom qml.representations import get_slatm_mbtypes\nfrom qml.representations import generate_slatm\n\n#Read alanine coordinates\ncoordinates = ALA.coordinates\n\n#Alanine nuclear charges\nnuclear_charges = ALA.nuclear_charges\n\n#Generate Many Body types\nmbtypes = get_slatm_mbtypes([nuclear_charges])\n\n#Create SLATM reprezentation\nrep = generate_slatm(coordinates, nuclear_charges, mbtypes)",
   "execution_count": 19,
   "outputs": []
  },
  {
   "cell_type": "code",
   "metadata": {
    "tags": [],
    "cell_id": "00019-46b2b02a-c9e1-4ac1-a8c6-2b7c618ac685",
    "deepnote_to_be_reexecuted": false,
    "source_hash": "37fad65b",
    "execution_start": 1622971078713,
    "execution_millis": 225,
    "deepnote_cell_type": "code"
   },
   "source": "#Plot all the terms together\nfig, ax = plt.subplots(figsize=[16,4])\nax.plot(rep)\nax.set_ylabel('Feature value')\nax.set_xlabel('SLATM features')\nplt.show()",
   "execution_count": 20,
   "outputs": [
    {
     "data": {
      "text/plain": "<Figure size 1152x288 with 1 Axes>",
      "image/png": "[encoded data removed]"
     },
     "metadata": {
      "needs_background": "light",
      "image/png": {
       "width": 950,
       "height": 262
      }
     },
     "output_type": "display_data"
    }
   ]
  },
  {
   "cell_type": "markdown",
   "source": "## Kernel Ridge Regression\n\nThe relations between the chemical properties of system and its structural information are often very complicated and can not be approximated by simple linear function. Therefore, more complex non-linear regression schemes are needed. \n\nKRR methods use so called kernel, which is a function describing the similarity between two points $x_i$ and $x_j$. Kernel functions are typically symmetric functions (i.e., $f(x,y) = f(y,x)$), for example various polynomials. In this tutorial, we use Gaussian kernel. It is defined as\n\n$K(x_i, x_j) = \\mathrm{exp}\\left(-\\frac{||x_i-x_j||^2}{2\\sigma^2}\\right).$\n\nThe target properties y are then represented as \n\n$\\mathbf{y} = \\mathbf{K \\alpha}$,\n\nwhere $\\mathbf{K}$ is the  kernel fuction and $\\alpha$ are regresion weigths. KRR with a Gaussian kernel is essentially the same as the SVR we used in the first tutorials.\n\nIn this tutorial, we are going to use KRR to predict internal energies at 0 K.\n\nWe will use part of QM9 database (Ruddigkeit et al. (2012) J. Chem. Inf. Mod https://pubs.acs.org/doi/abs/10.1021/ci300415d ,\nRamakrishnan et al. (2014) Scientific Data, https://www.nature.com/articles/sdata201422). This database is composed of molecules up to 9 heavy atoms (CHONF) an corresponding harmonic frequencies, dipole moments, polarizabilities, along with energies, enthalpies, and free energies of atomization. All properties were calculated at the B3LYP/6-31G(2df,p) level of theory.",
   "metadata": {
    "tags": [],
    "cell_id": "00003-149f4a34-03da-44f8-8593-c52eaecaa5a8",
    "deepnote_cell_type": "markdown"
   }
  },
  {
   "cell_type": "code",
   "metadata": {
    "tags": [],
    "cell_id": "00011-3c871f03-6cab-40da-9a1e-90923c667031",
    "deepnote_to_be_reexecuted": false,
    "source_hash": "5ce88a4",
    "execution_start": 1622972356655,
    "execution_millis": 0,
    "deepnote_cell_type": "code"
   },
   "source": "# Import of libraries for data processing\nimport ase.io as aio\nimport pandas as pd",
   "execution_count": 48,
   "outputs": []
  },
  {
   "cell_type": "code",
   "metadata": {
    "tags": [],
    "cell_id": "00013-73c577ed-0356-4a7f-a329-5fc3db5a7a79",
    "deepnote_to_be_reexecuted": false,
    "source_hash": "f4aa0cde",
    "execution_start": 1622971111533,
    "execution_millis": 25,
    "deepnote_cell_type": "code"
   },
   "source": "# Here we read properties in the qm9.csv using pandas library\nqm9_data = pd.read_csv('./data/qm9/qm9.csv', index_col=0)",
   "execution_count": 22,
   "outputs": []
  },
  {
   "cell_type": "code",
   "metadata": {
    "tags": [],
    "cell_id": "00017-1cd505d3-e8b4-419a-9ac2-1e9d4d919a0e",
    "deepnote_to_be_reexecuted": false,
    "source_hash": "58998ec",
    "execution_start": 1622971112120,
    "execution_millis": 154,
    "deepnote_cell_type": "code"
   },
   "source": "# You can see what is inside the file\nqm9_data",
   "execution_count": 23,
   "outputs": [
    {
     "output_type": "execute_result",
     "execution_count": 23,
     "data": {
      "application/vnd.deepnote.dataframe.v2+json": {
       "row_count": 3000,
       "column_count": 20,
       "columns": [
        {
         "name": "mol_id",
         "dtype": "object",
         "stats": {
          "unique_count": 3000,
          "nan_count": 0,
          "categories": [
           {
            "name": "gdb_1",
            "count": 1
           },
           {
            "name": "gdb_41",
            "count": 1
           },
           {
            "name": "2998 others",
            "count": 2998
           }
          ]
         }
        },
        {
         "name": "A",
         "dtype": "float64",
         "stats": {
          "unique_count": 2988,
          "nan_count": 0,
          "min": "1.57157",
          "max": "157.7118",
          "histogram": [
           {
            "bin_start": 1.57157,
            "bin_end": 17.185593,
            "count": 2995
           },
           {
            "bin_start": 17.185593,
            "bin_end": 32.799616,
            "count": 4
           },
           {
            "bin_start": 32.799616,
            "bin_end": 48.413638999999996,
            "count": 0
           },
           {
            "bin_start": 48.413638999999996,
            "bin_end": 64.02766199999999,
            "count": 0
           },
           {
            "bin_start": 64.02766199999999,
            "bin_end": 79.641685,
            "count": 0
           },
           {
            "bin_start": 79.641685,
            "bin_end": 95.25570799999998,
            "count": 0
           },
           {
            "bin_start": 95.25570799999998,
            "bin_end": 110.86973099999999,
            "count": 0
           },
           {
            "bin_start": 110.86973099999999,
            "bin_end": 126.48375399999999,
            "count": 0
           },
           {
            "bin_start": 126.48375399999999,
            "bin_end": 142.097777,
            "count": 0
           },
           {
            "bin_start": 142.097777,
            "bin_end": 157.7118,
            "count": 1
           }
          ]
         }
        },
        {
         "name": "B",
         "dtype": "float64",
         "stats": {
          "unique_count": 2977,
          "nan_count": 0,
          "min": "0.41661",
          "max": "157.70997",
          "histogram": [
           {
            "bin_start": 0.41661,
            "bin_end": 16.145946,
            "count": 2999
           },
           {
            "bin_start": 16.145946,
            "bin_end": 31.875282,
            "count": 0
           },
           {
            "bin_start": 31.875282,
            "bin_end": 47.604617999999995,
            "count": 0
           },
           {
            "bin_start": 47.604617999999995,
            "bin_end": 63.333954,
            "count": 0
           },
           {
            "bin_start": 63.333954,
            "bin_end": 79.06329000000001,
            "count": 0
           },
           {
            "bin_start": 79.06329000000001,
            "bin_end": 94.792626,
            "count": 0
           },
           {
            "bin_start": 94.792626,
            "bin_end": 110.521962,
            "count": 0
           },
           {
            "bin_start": 110.521962,
            "bin_end": 126.251298,
            "count": 0
           },
           {
            "bin_start": 126.251298,
            "bin_end": 141.98063399999998,
            "count": 0
           },
           {
            "bin_start": 141.98063399999998,
            "bin_end": 157.70997,
            "count": 1
           }
          ]
         }
        },
        {
         "name": "C",
         "dtype": "float64",
         "stats": {
          "unique_count": 2967,
          "nan_count": 0,
          "min": "0.41097",
          "max": "157.70699",
          "histogram": [
           {
            "bin_start": 0.41097,
            "bin_end": 16.140572,
            "count": 2999
           },
           {
            "bin_start": 16.140572,
            "bin_end": 31.870174,
            "count": 0
           },
           {
            "bin_start": 31.870174,
            "bin_end": 47.599776,
            "count": 0
           },
           {
            "bin_start": 47.599776,
            "bin_end": 63.329378,
            "count": 0
           },
           {
            "bin_start": 63.329378,
            "bin_end": 79.05898,
            "count": 0
           },
           {
            "bin_start": 79.05898,
            "bin_end": 94.788582,
            "count": 0
           },
           {
            "bin_start": 94.788582,
            "bin_end": 110.518184,
            "count": 0
           },
           {
            "bin_start": 110.518184,
            "bin_end": 126.247786,
            "count": 0
           },
           {
            "bin_start": 126.247786,
            "bin_end": 141.977388,
            "count": 0
           },
           {
            "bin_start": 141.977388,
            "bin_end": 157.70699,
            "count": 1
           }
          ]
         }
        },
        {
         "name": "mu",
         "dtype": "float64",
         "stats": {
          "unique_count": 2917,
          "nan_count": 0,
          "min": "0.0",
          "max": "15.9227",
          "histogram": [
           {
            "bin_start": 0,
            "bin_end": 1.59227,
            "count": 790
           },
           {
            "bin_start": 1.59227,
            "bin_end": 3.18454,
            "count": 1207
           },
           {
            "bin_start": 3.18454,
            "bin_end": 4.77681,
            "count": 738
           },
           {
            "bin_start": 4.77681,
            "bin_end": 6.36908,
            "count": 227
           },
           {
            "bin_start": 6.36908,
            "bin_end": 7.96135,
            "count": 26
           },
           {
            "bin_start": 7.96135,
            "bin_end": 9.55362,
            "count": 3
           },
           {
            "bin_start": 9.55362,
            "bin_end": 11.145890000000001,
            "count": 1
           },
           {
            "bin_start": 11.145890000000001,
            "bin_end": 12.73816,
            "count": 3
           },
           {
            "bin_start": 12.73816,
            "bin_end": 14.33043,
            "count": 3
           },
           {
            "bin_start": 14.33043,
            "bin_end": 15.9227,
            "count": 2
           }
          ]
         }
        },
        {
         "name": "alpha",
         "dtype": "float64",
         "stats": {
          "unique_count": 1868,
          "nan_count": 0,
          "min": "13.21",
          "max": "109.57",
          "histogram": [
           {
            "bin_start": 13.21,
            "bin_end": 22.846,
            "count": 1
           },
           {
            "bin_start": 22.846,
            "bin_end": 32.482,
            "count": 0
           },
           {
            "bin_start": 32.482,
            "bin_end": 42.117999999999995,
            "count": 4
           },
           {
            "bin_start": 42.117999999999995,
            "bin_end": 51.754,
            "count": 22
           },
           {
            "bin_start": 51.754,
            "bin_end": 61.38999999999999,
            "count": 116
           },
           {
            "bin_start": 61.38999999999999,
            "bin_end": 71.026,
            "count": 653
           },
           {
            "bin_start": 71.026,
            "bin_end": 80.662,
            "count": 1460
           },
           {
            "bin_start": 80.662,
            "bin_end": 90.298,
            "count": 665
           },
           {
            "bin_start": 90.298,
            "bin_end": 99.934,
            "count": 77
           },
           {
            "bin_start": 99.934,
            "bin_end": 109.57,
            "count": 2
           }
          ]
         }
        },
        {
         "name": "homo",
         "dtype": "float64",
         "stats": {
          "unique_count": 880,
          "nan_count": 0,
          "min": "-0.3877",
          "max": "-0.1177",
          "histogram": [
           {
            "bin_start": -0.3877,
            "bin_end": -0.36069999999999997,
            "count": 1
           },
           {
            "bin_start": -0.36069999999999997,
            "bin_end": -0.3337,
            "count": 0
           },
           {
            "bin_start": -0.3337,
            "bin_end": -0.3067,
            "count": 5
           },
           {
            "bin_start": -0.3067,
            "bin_end": -0.27969999999999995,
            "count": 84
           },
           {
            "bin_start": -0.27969999999999995,
            "bin_end": -0.2527,
            "count": 616
           },
           {
            "bin_start": -0.2527,
            "bin_end": -0.22569999999999996,
            "count": 1684
           },
           {
            "bin_start": -0.22569999999999996,
            "bin_end": -0.19869999999999996,
            "count": 482
           },
           {
            "bin_start": -0.19869999999999996,
            "bin_end": -0.17169999999999996,
            "count": 108
           },
           {
            "bin_start": -0.17169999999999996,
            "bin_end": -0.14469999999999997,
            "count": 19
           },
           {
            "bin_start": -0.14469999999999997,
            "bin_end": -0.1177,
            "count": 1
           }
          ]
         }
        },
        {
         "name": "lumo",
         "dtype": "float64",
         "stats": {
          "unique_count": 1395,
          "nan_count": 0,
          "min": "-0.1375",
          "max": "0.1171",
          "histogram": [
           {
            "bin_start": -0.1375,
            "bin_end": -0.11204000000000001,
            "count": 5
           },
           {
            "bin_start": -0.11204000000000001,
            "bin_end": -0.08658000000000002,
            "count": 36
           },
           {
            "bin_start": -0.08658000000000002,
            "bin_end": -0.06112000000000001,
            "count": 105
           },
           {
            "bin_start": -0.06112000000000001,
            "bin_end": -0.03566000000000001,
            "count": 301
           },
           {
            "bin_start": -0.03566000000000001,
            "bin_end": -0.010200000000000015,
            "count": 544
           },
           {
            "bin_start": -0.010200000000000015,
            "bin_end": 0.015259999999999996,
            "count": 548
           },
           {
            "bin_start": 0.015259999999999996,
            "bin_end": 0.04071999999999998,
            "count": 605
           },
           {
            "bin_start": 0.04071999999999998,
            "bin_end": 0.06617999999999999,
            "count": 305
           },
           {
            "bin_start": 0.06617999999999999,
            "bin_end": 0.09164,
            "count": 521
           },
           {
            "bin_start": 0.09164,
            "bin_end": 0.1171,
            "count": 30
           }
          ]
         }
        },
        {
         "name": "gap",
         "dtype": "float64",
         "stats": {
          "unique_count": 1434,
          "nan_count": 0,
          "min": "0.105",
          "max": "0.5048",
          "histogram": [
           {
            "bin_start": 0.105,
            "bin_end": 0.14498,
            "count": 15
           },
           {
            "bin_start": 0.14498,
            "bin_end": 0.18496,
            "count": 192
           },
           {
            "bin_start": 0.18496,
            "bin_end": 0.22494,
            "count": 765
           },
           {
            "bin_start": 0.22494,
            "bin_end": 0.26492,
            "count": 791
           },
           {
            "bin_start": 0.26492,
            "bin_end": 0.3049,
            "count": 733
           },
           {
            "bin_start": 0.3049,
            "bin_end": 0.34488,
            "count": 478
           },
           {
            "bin_start": 0.34488,
            "bin_end": 0.38486,
            "count": 25
           },
           {
            "bin_start": 0.38486,
            "bin_end": 0.42484,
            "count": 0
           },
           {
            "bin_start": 0.42484,
            "bin_end": 0.46482,
            "count": 0
           },
           {
            "bin_start": 0.46482,
            "bin_end": 0.5048,
            "count": 1
           }
          ]
         }
        },
        {
         "name": "r2",
         "dtype": "float64",
         "stats": {
          "unique_count": 2999,
          "nan_count": 0,
          "min": "35.3641",
          "max": "2579.9185",
          "histogram": [
           {
            "bin_start": 35.3641,
            "bin_end": 289.81954,
            "count": 1
           },
           {
            "bin_start": 289.81954,
            "bin_end": 544.27498,
            "count": 11
           },
           {
            "bin_start": 544.27498,
            "bin_end": 798.7304200000001,
            "count": 114
           },
           {
            "bin_start": 798.7304200000001,
            "bin_end": 1053.18586,
            "count": 863
           },
           {
            "bin_start": 1053.18586,
            "bin_end": 1307.6413000000002,
            "count": 1295
           },
           {
            "bin_start": 1307.6413000000002,
            "bin_end": 1562.0967400000002,
            "count": 481
           },
           {
            "bin_start": 1562.0967400000002,
            "bin_end": 1816.5521800000004,
            "count": 158
           },
           {
            "bin_start": 1816.5521800000004,
            "bin_end": 2071.0076200000003,
            "count": 48
           },
           {
            "bin_start": 2071.0076200000003,
            "bin_end": 2325.46306,
            "count": 23
           },
           {
            "bin_start": 2325.46306,
            "bin_end": 2579.9185,
            "count": 6
           }
          ]
         }
        },
        {
         "name": "zpve",
         "dtype": "float64",
         "stats": {
          "unique_count": 2944,
          "nan_count": 0,
          "min": "0.044749",
          "max": "0.2505449999999999",
          "histogram": [
           {
            "bin_start": 0.044749,
            "bin_end": 0.06532859999999999,
            "count": 11
           },
           {
            "bin_start": 0.06532859999999999,
            "bin_end": 0.08590819999999999,
            "count": 49
           },
           {
            "bin_start": 0.08590819999999999,
            "bin_end": 0.10648779999999998,
            "count": 175
           },
           {
            "bin_start": 0.10648779999999998,
            "bin_end": 0.12706739999999997,
            "count": 499
           },
           {
            "bin_start": 0.12706739999999997,
            "bin_end": 0.14764699999999997,
            "count": 616
           },
           {
            "bin_start": 0.14764699999999997,
            "bin_end": 0.16822659999999995,
            "count": 708
           },
           {
            "bin_start": 0.16822659999999995,
            "bin_end": 0.18880619999999992,
            "count": 627
           },
           {
            "bin_start": 0.18880619999999992,
            "bin_end": 0.20938579999999996,
            "count": 249
           },
           {
            "bin_start": 0.20938579999999996,
            "bin_end": 0.22996539999999993,
            "count": 55
           },
           {
            "bin_start": 0.22996539999999993,
            "bin_end": 0.2505449999999999,
            "count": 11
           }
          ]
         }
        },
        {
         "name": "u0",
         "dtype": "float64",
         "stats": {
          "unique_count": 2998,
          "nan_count": 0,
          "min": "-566.0360599999999",
          "max": "-40.47893",
          "histogram": [
           {
            "bin_start": -566.0360599999999,
            "bin_end": -513.4803469999999,
            "count": 1
           },
           {
            "bin_start": -513.4803469999999,
            "bin_end": -460.9246339999999,
            "count": 152
           },
           {
            "bin_start": -460.9246339999999,
            "bin_end": -408.36892099999994,
            "count": 1352
           },
           {
            "bin_start": -408.36892099999994,
            "bin_end": -355.8132079999999,
            "count": 1169
           },
           {
            "bin_start": -355.8132079999999,
            "bin_end": -303.25749499999995,
            "count": 298
           },
           {
            "bin_start": -303.25749499999995,
            "bin_end": -250.70178199999998,
            "count": 23
           },
           {
            "bin_start": -250.70178199999998,
            "bin_end": -198.14606899999995,
            "count": 2
           },
           {
            "bin_start": -198.14606899999995,
            "bin_end": -145.59035599999999,
            "count": 2
           },
           {
            "bin_start": -145.59035599999999,
            "bin_end": -93.03464300000002,
            "count": 0
           },
           {
            "bin_start": -93.03464300000002,
            "bin_end": -40.47893,
            "count": 1
           }
          ]
         }
        },
        {
         "name": "u298",
         "dtype": "float64",
         "stats": {
          "unique_count": 3000,
          "nan_count": 0,
          "min": "-566.0278900000001",
          "max": "-40.476062",
          "histogram": [
           {
            "bin_start": -566.0278900000001,
            "bin_end": -513.4727072000001,
            "count": 1
           },
           {
            "bin_start": -513.4727072000001,
            "bin_end": -460.91752440000005,
            "count": 152
           },
           {
            "bin_start": -460.91752440000005,
            "bin_end": -408.36234160000004,
            "count": 1352
           },
           {
            "bin_start": -408.36234160000004,
            "bin_end": -355.8071588,
            "count": 1169
           },
           {
            "bin_start": -355.8071588,
            "bin_end": -303.251976,
            "count": 298
           },
           {
            "bin_start": -303.251976,
            "bin_end": -250.6967932,
            "count": 23
           },
           {
            "bin_start": -250.6967932,
            "bin_end": -198.1416104,
            "count": 2
           },
           {
            "bin_start": -198.1416104,
            "bin_end": -145.58642759999998,
            "count": 2
           },
           {
            "bin_start": -145.58642759999998,
            "bin_end": -93.03124479999997,
            "count": 0
           },
           {
            "bin_start": -93.03124479999997,
            "bin_end": -40.476062,
            "count": 1
           }
          ]
         }
        },
        {
         "name": "h298",
         "dtype": "float64",
         "stats": {
          "unique_count": 3000,
          "nan_count": 0,
          "min": "-566.0269450000001",
          "max": "-40.475117",
          "histogram": [
           {
            "bin_start": -566.0269450000001,
            "bin_end": -513.4717622000001,
            "count": 1
           },
           {
            "bin_start": -513.4717622000001,
            "bin_end": -460.91657940000005,
            "count": 152
           },
           {
            "bin_start": -460.91657940000005,
            "bin_end": -408.36139660000003,
            "count": 1352
           },
           {
            "bin_start": -408.36139660000003,
            "bin_end": -355.8062138,
            "count": 1169
           },
           {
            "bin_start": -355.8062138,
            "bin_end": -303.251031,
            "count": 298
           },
           {
            "bin_start": -303.251031,
            "bin_end": -250.6958482,
            "count": 23
           },
           {
            "bin_start": -250.6958482,
            "bin_end": -198.1406654,
            "count": 2
           },
           {
            "bin_start": -198.1406654,
            "bin_end": -145.58548259999998,
            "count": 2
           },
           {
            "bin_start": -145.58548259999998,
            "bin_end": -93.03029979999997,
            "count": 0
           },
           {
            "bin_start": -93.03029979999997,
            "bin_end": -40.475117,
            "count": 1
           }
          ]
         }
        },
        {
         "name": "g298",
         "dtype": "float64",
         "stats": {
          "unique_count": 3000,
          "nan_count": 0,
          "min": "-566.071016",
          "max": "-40.498597",
          "histogram": [
           {
            "bin_start": -566.071016,
            "bin_end": -513.5137741,
            "count": 1
           },
           {
            "bin_start": -513.5137741,
            "bin_end": -460.95653219999997,
            "count": 152
           },
           {
            "bin_start": -460.95653219999997,
            "bin_end": -408.3992903,
            "count": 1352
           },
           {
            "bin_start": -408.3992903,
            "bin_end": -355.8420484,
            "count": 1169
           },
           {
            "bin_start": -355.8420484,
            "bin_end": -303.2848065,
            "count": 298
           },
           {
            "bin_start": -303.2848065,
            "bin_end": -250.72756460000005,
            "count": 23
           },
           {
            "bin_start": -250.72756460000005,
            "bin_end": -198.17032270000004,
            "count": 2
           },
           {
            "bin_start": -198.17032270000004,
            "bin_end": -145.61308080000003,
            "count": 2
           },
           {
            "bin_start": -145.61308080000003,
            "bin_end": -93.05583890000003,
            "count": 0
           },
           {
            "bin_start": -93.05583890000003,
            "bin_end": -40.498597,
            "count": 1
           }
          ]
         }
        },
        {
         "name": "cv",
         "dtype": "float64",
         "stats": {
          "unique_count": 2709,
          "nan_count": 0,
          "min": "6.468999999999999",
          "max": "45.191",
          "histogram": [
           {
            "bin_start": 6.468999999999999,
            "bin_end": 10.3412,
            "count": 1
           },
           {
            "bin_start": 10.3412,
            "bin_end": 14.2134,
            "count": 0
           },
           {
            "bin_start": 14.2134,
            "bin_end": 18.0856,
            "count": 4
           },
           {
            "bin_start": 18.0856,
            "bin_end": 21.9578,
            "count": 30
           },
           {
            "bin_start": 21.9578,
            "bin_end": 25.83,
            "count": 176
           },
           {
            "bin_start": 25.83,
            "bin_end": 29.702200000000005,
            "count": 691
           },
           {
            "bin_start": 29.702200000000005,
            "bin_end": 33.574400000000004,
            "count": 1129
           },
           {
            "bin_start": 33.574400000000004,
            "bin_end": 37.446600000000004,
            "count": 756
           },
           {
            "bin_start": 37.446600000000004,
            "bin_end": 41.3188,
            "count": 190
           },
           {
            "bin_start": 41.3188,
            "bin_end": 45.191,
            "count": 23
           }
          ]
         }
        },
        {
         "name": "u0_atom",
         "dtype": "float64",
         "stats": {
          "unique_count": 2998,
          "nan_count": 0,
          "min": "-2470.0009258001",
          "max": "-395.999594594",
          "histogram": [
           {
            "bin_start": -2470.0009258001,
            "bin_end": -2262.60079267949,
            "count": 44
           },
           {
            "bin_start": -2262.60079267949,
            "bin_end": -2055.20065955888,
            "count": 236
           },
           {
            "bin_start": -2055.20065955888,
            "bin_end": -1847.80052643827,
            "count": 835
           },
           {
            "bin_start": -1847.80052643827,
            "bin_end": -1640.40039331766,
            "count": 1058
           },
           {
            "bin_start": -1640.40039331766,
            "bin_end": -1433.00026019705,
            "count": 610
           },
           {
            "bin_start": -1433.00026019705,
            "bin_end": -1225.60012707644,
            "count": 165
           },
           {
            "bin_start": -1225.60012707644,
            "bin_end": -1018.19999395583,
            "count": 46
           },
           {
            "bin_start": -1018.19999395583,
            "bin_end": -810.79986083522,
            "count": 5
           },
           {
            "bin_start": -810.79986083522,
            "bin_end": -603.39972771461,
            "count": 0
           },
           {
            "bin_start": -603.39972771461,
            "bin_end": -395.999594594,
            "count": 1
           }
          ]
         }
        },
        {
         "name": "u298_atom",
         "dtype": "float64",
         "stats": {
          "unique_count": 2999,
          "nan_count": 0,
          "min": "-2486.8545625221",
          "max": "-398.643290011",
          "histogram": [
           {
            "bin_start": -2486.8545625221,
            "bin_end": -2278.03343527099,
            "count": 44
           },
           {
            "bin_start": -2278.03343527099,
            "bin_end": -2069.21230801988,
            "count": 236
           },
           {
            "bin_start": -2069.21230801988,
            "bin_end": -1860.39118076877,
            "count": 825
           },
           {
            "bin_start": -1860.39118076877,
            "bin_end": -1651.57005351766,
            "count": 1063
           },
           {
            "bin_start": -1651.57005351766,
            "bin_end": -1442.74892626655,
            "count": 612
           },
           {
            "bin_start": -1442.74892626655,
            "bin_end": -1233.92779901544,
            "count": 168
           },
           {
            "bin_start": -1233.92779901544,
            "bin_end": -1025.10667176433,
            "count": 46
           },
           {
            "bin_start": -1025.10667176433,
            "bin_end": -816.28554451322,
            "count": 5
           },
           {
            "bin_start": -816.28554451322,
            "bin_end": -607.4644172621099,
            "count": 0
           },
           {
            "bin_start": -607.4644172621099,
            "bin_end": -398.643290011,
            "count": 1
           }
          ]
         }
        },
        {
         "name": "h298_atom",
         "dtype": "float64",
         "stats": {
          "unique_count": 2998,
          "nan_count": 0,
          "min": "-2502.26743858",
          "max": "-401.014646522",
          "histogram": [
           {
            "bin_start": -2502.26743858,
            "bin_end": -2292.1421593742,
            "count": 44
           },
           {
            "bin_start": -2292.1421593742,
            "bin_end": -2082.0168801684,
            "count": 235
           },
           {
            "bin_start": -2082.0168801684,
            "bin_end": -1871.8916009626,
            "count": 821
           },
           {
            "bin_start": -1871.8916009626,
            "bin_end": -1661.7663217568002,
            "count": 1066
           },
           {
            "bin_start": -1661.7663217568002,
            "bin_end": -1451.641042551,
            "count": 610
           },
           {
            "bin_start": -1451.641042551,
            "bin_end": -1241.5157633452,
            "count": 172
           },
           {
            "bin_start": -1241.5157633452,
            "bin_end": -1031.3904841394,
            "count": 46
           },
           {
            "bin_start": -1031.3904841394,
            "bin_end": -821.2652049336,
            "count": 5
           },
           {
            "bin_start": -821.2652049336,
            "bin_end": -611.1399257277999,
            "count": 0
           },
           {
            "bin_start": -611.1399257277999,
            "bin_end": -401.014646522,
            "count": 1
           }
          ]
         }
        },
        {
         "name": "g298_atom",
         "dtype": "float64",
         "stats": {
          "unique_count": 2999,
          "nan_count": 0,
          "min": "-2290.149943801",
          "max": "-372.471772148",
          "histogram": [
           {
            "bin_start": -2290.149943801,
            "bin_end": -2098.3821266357,
            "count": 44
           },
           {
            "bin_start": -2098.3821266357,
            "bin_end": -1906.6143094704,
            "count": 248
           },
           {
            "bin_start": -1906.6143094704,
            "bin_end": -1714.8464923051001,
            "count": 849
           },
           {
            "bin_start": -1714.8464923051001,
            "bin_end": -1523.0786751398,
            "count": 1056
           },
           {
            "bin_start": -1523.0786751398,
            "bin_end": -1331.3108579745,
            "count": 591
           },
           {
            "bin_start": -1331.3108579745,
            "bin_end": -1139.5430408092002,
            "count": 163
           },
           {
            "bin_start": -1139.5430408092002,
            "bin_end": -947.7752236439001,
            "count": 43
           },
           {
            "bin_start": -947.7752236439001,
            "bin_end": -756.0074064786002,
            "count": 5
           },
           {
            "bin_start": -756.0074064786002,
            "bin_end": -564.2395893133003,
            "count": 0
           },
           {
            "bin_start": -564.2395893133003,
            "bin_end": -372.471772148,
            "count": 1
           }
          ]
         }
        },
        {
         "name": "_deepnote_index_column",
         "dtype": "int64"
        }
       ],
       "rows_top": [
        {
         "mol_id": "gdb_1",
         "A": 157.7118,
         "B": 157.70997,
         "C": 157.70699,
         "mu": 0,
         "alpha": 13.21,
         "homo": -0.3877,
         "lumo": 0.1171,
         "gap": 0.5048,
         "r2": 35.3641,
         "zpve": 0.044749,
         "u0": -40.47893,
         "u298": -40.476062,
         "h298": -40.475117,
         "g298": -40.498597,
         "cv": 6.468999999999999,
         "u0_atom": -395.999594594,
         "u298_atom": -398.643290011,
         "h298_atom": -401.014646522,
         "g298_atom": -372.471772148,
         "_deepnote_index_column": 0
        },
        {
         "mol_id": "gdb_41",
         "A": 28.29567,
         "B": 4.14901,
         "C": 3.88349,
         "mu": 1.0363,
         "alpha": 39.34,
         "homo": -0.2503,
         "lumo": 0.0925,
         "gap": 0.3428,
         "r2": 368.9331,
         "zpve": 0.107895,
         "u0": -194.254127,
         "u298": -194.248585,
         "h298": -194.247641,
         "g298": -194.281899,
         "cv": 17.887999999999998,
         "u0_atom": -1033.537443432,
         "u298_atom": -1040.724304009,
         "h298_atom": -1047.245377537,
         "g298_atom": -960.716279,
         "_deepnote_index_column": 40
        },
        {
         "mol_id": "gdb_81",
         "A": 7.57282,
         "B": 3.5255,
         "C": 2.65861,
         "mu": 1.3149,
         "alpha": 49.26,
         "homo": -0.2629,
         "lumo": 0.0789,
         "gap": 0.3418,
         "r2": 516.4357,
         "zpve": 0.136209,
         "u0": -233.551389,
         "u298": -233.544542,
         "h298": -233.543598,
         "g298": -233.581067,
         "cv": 23.924,
         "u0_atom": -1315.881352928,
         "u298_atom": -1324.915600001,
         "h298_atom": -1333.215034035,
         "g298_atom": -1221.758140473,
         "_deepnote_index_column": 80
        },
        {
         "mol_id": "gdb_121",
         "A": 23.529020000000003,
         "B": 2.22059,
         "C": 2.10822,
         "mu": 0.7752,
         "alpha": 51.47,
         "homo": -0.2586,
         "lumo": 0.0583,
         "gap": 0.3169,
         "r2": 593.0141,
         "zpve": 0.1127359999999999,
         "u0": -195.186228,
         "u298": -195.179881,
         "h298": -195.178937,
         "g298": -195.215412,
         "cv": 22.023000000000003,
         "u0_atom": -1223.758011656,
         "u298_atom": -1231.32953525,
         "h298_atom": -1238.442977274,
         "g298_atom": -1142.951795199,
         "_deepnote_index_column": 120
        },
        {
         "mol_id": "gdb_161",
         "A": 7.8609,
         "B": 7.51415,
         "C": 4.27374,
         "mu": 1.3482,
         "alpha": 38.2,
         "homo": -0.2572,
         "lumo": 0.0865,
         "gap": 0.3437,
         "r2": 333.797,
         "zpve": 0.092697,
         "u0": -268.27373900000003,
         "u298": -268.269015,
         "h298": -268.268071,
         "g298": -268.302293,
         "cv": 15.172,
         "u0_atom": -1005.662866143,
         "u298_atom": -1012.474476338,
         "h298_atom": -1018.401926352,
         "g298_atom": -937.320233444,
         "_deepnote_index_column": 160
        },
        {
         "mol_id": "gdb_201",
         "A": 8.67353,
         "B": 3.34371,
         "C": 2.44992,
         "mu": 1.6978,
         "alpha": 55.32,
         "homo": -0.1982,
         "lumo": 0.0533,
         "gap": 0.2515,
         "r2": 528.9258,
         "zpve": 0.109903,
         "u0": -249.395323,
         "u298": -249.38964,
         "h298": -249.388696,
         "g298": -249.424242,
         "cv": 20.948,
         "u0_atom": -1302.514783719,
         "u298_atom": -1310.502973289,
         "h298_atom": -1317.615787804,
         "g298_atom": -1218.792532939,
         "_deepnote_index_column": 200
        },
        {
         "mol_id": "gdb_241",
         "A": 7.62965,
         "B": 2.075,
         "C": 1.80193,
         "mu": 2.6833,
         "alpha": 48.15,
         "homo": -0.2505,
         "lumo": -0.0381,
         "gap": 0.2124,
         "r2": 667.8025,
         "zpve": 0.09322,
         "u0": -306.397642,
         "u298": -306.390688,
         "h298": -306.389744,
         "g298": -306.429362,
         "cv": 22.667,
         "u0_atom": -1179.5650628221,
         "u298_atom": -1185.8665082,
         "h298_atom": -1192.38632671,
         "g298_atom": -1104.082005212,
         "_deepnote_index_column": 240
        },
        {
         "mol_id": "gdb_281",
         "A": 5.43774,
         "B": 3.54714,
         "C": 2.17517,
         "mu": 1.1652,
         "alpha": 43.45,
         "homo": -0.2416,
         "lumo": -0.0632,
         "gap": 0.1784,
         "r2": 547.5835,
         "zpve": 0.083247,
         "u0": -322.482659,
         "u298": -322.475927,
         "h298": -322.474982,
         "g298": -322.513285,
         "cv": 22.796,
         "u0_atom": -1084.3098241311,
         "u298_atom": -1089.8613962539998,
         "h298_atom": -1095.78759125,
         "g298_atom": -1014.517645642,
         "_deepnote_index_column": 280
        },
        {
         "mol_id": "gdb_321",
         "A": 6.571680000000001,
         "B": 2.87944,
         "C": 2.00217,
         "mu": 3.1111,
         "alpha": 50.23,
         "homo": -0.28,
         "lumo": -0.0898,
         "gap": 0.1902,
         "r2": 559.9421,
         "zpve": 0.04691,
         "u0": -266.76344500000005,
         "u298": -266.757444,
         "h298": -266.7565,
         "g298": -266.792861,
         "cv": 20.497,
         "u0_atom": -918.96183014,
         "u298_atom": -922.307708128,
         "h298_atom": -926.455542618,
         "g298_atom": -869.03093901,
         "_deepnote_index_column": 320
        },
        {
         "mol_id": "gdb_361",
         "A": 9.53439,
         "B": 2.13951,
         "C": 1.80586,
         "mu": 1.6323,
         "alpha": 50.2,
         "homo": -0.268,
         "lumo": 0.0192,
         "gap": 0.2871,
         "r2": 694.4729,
         "zpve": 0.118017,
         "u0": -307.61045,
         "u298": -307.602997,
         "h298": -307.602053,
         "g298": -307.642398,
         "cv": 24.367,
         "u0_atom": -1312.76137818,
         "u298_atom": -1320.526802055,
         "h298_atom": -1328.232612575,
         "g298_atom": -1224.05043085,
         "_deepnote_index_column": 360
        },
        {
         "mol_id": "gdb_401",
         "A": 5.87456,
         "B": 3.17277,
         "C": 2.45596,
         "mu": 4.9191,
         "alpha": 50.81,
         "homo": -0.2743,
         "lumo": 0.0226,
         "gap": 0.2969,
         "r2": 541.8201,
         "zpve": 0.096715,
         "u0": -265.399968,
         "u298": -265.393944,
         "h298": -265.393,
         "g298": -265.429201,
         "cv": 21.524,
         "u0_atom": -1156.82539168,
         "u298_atom": -1163.710420428,
         "h298_atom": -1170.230238938,
         "g298_atom": -1079.677552693,
         "_deepnote_index_column": 400
        },
        {
         "mol_id": "gdb_441",
         "A": 8.78743,
         "B": 3.90713,
         "C": 2.7507,
         "mu": 1.6338,
         "alpha": 39.3,
         "homo": -0.2793,
         "lumo": -0.0315,
         "gap": 0.2478,
         "r2": 433.0637,
         "zpve": 0.062716,
         "u0": -321.271406,
         "u298": -321.26687000000004,
         "h298": -321.265926,
         "g298": -321.299312,
         "cv": 15.897,
         "u0_atom": -952.089285268,
         "u298_atom": -957.241761667,
         "h298_atom": -961.982592162,
         "g298_atom": -893.961244071,
         "_deepnote_index_column": 440
        },
        {
         "mol_id": "gdb_481",
         "A": 6.49682,
         "B": 3.64898,
         "C": 2.93229,
         "mu": 1.8535,
         "alpha": 53.26,
         "homo": -0.2442,
         "lumo": 0.0955,
         "gap": 0.3397,
         "r2": 508.8551,
         "zpve": 0.119394,
         "u0": -270.401391,
         "u298": -270.39568,
         "h298": -270.394736,
         "g298": -270.430118,
         "cv": 21.539,
         "u0_atom": -1318.250826912,
         "u298_atom": -1327.1099989741,
         "h298_atom": -1334.815809494,
         "g298_atom": -1227.774696765,
         "_deepnote_index_column": 480
        },
        {
         "mol_id": "gdb_521",
         "A": 19.69511,
         "B": 1.20925,
         "C": 1.16405,
         "mu": 1.514,
         "alpha": 57.94,
         "homo": -0.2431,
         "lumo": 0.0619,
         "gap": 0.305,
         "r2": 987.2389,
         "zpve": 0.117711,
         "u0": -270.405973,
         "u298": -270.397985,
         "h298": -270.397041,
         "g298": -270.439567,
         "cv": 25.727,
         "u0_atom": -1321.12607315,
         "u298_atom": -1328.556407219,
         "h298_atom": -1336.262217739,
         "g298_atom": -1233.7040293060002,
         "_deepnote_index_column": 520
        },
        {
         "mol_id": "gdb_561",
         "A": 9.72204,
         "B": 2.5643700000000003,
         "C": 2.11019,
         "mu": 4.2072,
         "alpha": 52.08,
         "homo": -0.2396,
         "lumo": 0.0265,
         "gap": 0.2661,
         "r2": 586.133,
         "zpve": 0.108991,
         "u0": -286.498779,
         "u298": -286.492684,
         "h298": -286.49174,
         "g298": -286.529456,
         "cv": 20.138,
         "u0_atom": -1230.75850206,
         "u298_atom": -1238.487530413,
         "h298_atom": -1245.600344928,
         "g298_atom": -1147.88338843,
         "_deepnote_index_column": 560
        },
        {
         "mol_id": "gdb_601",
         "A": 6.4642800000000005,
         "B": 2.88269,
         "C": 2.26314,
         "mu": 4.7574,
         "alpha": 51.08,
         "homo": -0.2776,
         "lumo": 0.016,
         "gap": 0.2936,
         "r2": 564.4965,
         "zpve": 0.09686,
         "u0": -265.401151,
         "u298": -265.395097,
         "h298": -265.394153,
         "g298": -265.430631,
         "cv": 21.255,
         "u0_atom": -1157.567734827,
         "u298_atom": -1164.433938305,
         "h298_atom": -1170.953756815,
         "g298_atom": -1080.574890563,
         "_deepnote_index_column": 600
        },
        {
         "mol_id": "gdb_641",
         "A": 7.74808,
         "B": 3.11668,
         "C": 2.80799,
         "mu": 1.6374,
         "alpha": 53.44,
         "homo": -0.2239999999999999,
         "lumo": 0.0811,
         "gap": 0.3051,
         "r2": 524.6466,
         "zpve": 0.119866,
         "u0": -270.394284,
         "u298": -270.388609,
         "h298": -270.387665,
         "g298": -270.423475,
         "cv": 20.986,
         "u0_atom": -1313.7911204491,
         "u298_atom": -1322.672882835,
         "h298_atom": -1330.378693355,
         "g298_atom": -1223.606154478,
         "_deepnote_index_column": 640
        },
        {
         "mol_id": "gdb_681",
         "A": 7.92922,
         "B": 3.48635,
         "C": 2.82936,
         "mu": 3.2426,
         "alpha": 50.48,
         "homo": -0.2407,
         "lumo": -0.0079,
         "gap": 0.2329,
         "r2": 478.8605,
         "zpve": 0.097002,
         "u0": -269.221561,
         "u298": -269.216562,
         "h298": -269.215618,
         "g298": -269.249768,
         "cv": 18.866,
         "u0_atom": -1205.748503356,
         "u298_atom": -1213.277356338,
         "h298_atom": -1219.797174848,
         "g298_atom": -1128.3170303010002,
         "_deepnote_index_column": 680
        },
        {
         "mol_id": "gdb_721",
         "A": 6.27422,
         "B": 5.986759999999999,
         "C": 3.06356,
         "mu": 3.9853,
         "alpha": 48.99,
         "homo": -0.2329,
         "lumo": -0.0503,
         "gap": 0.1826,
         "r2": 412.1508,
         "zpve": 0.0761039999999999,
         "u0": -264.226909,
         "u298": -264.222683,
         "h298": -264.221738,
         "g298": -264.254291,
         "cv": 15.478,
         "u0_atom": -1048.571931563,
         "u298_atom": -1054.808116005,
         "h298_atom": -1060.141314996,
         "g298_atom": -983.633535189,
         "_deepnote_index_column": 720
        },
        {
         "mol_id": "gdb_761",
         "A": 9.64217,
         "B": 3.69719,
         "C": 2.68224,
         "mu": 4.0185,
         "alpha": 44.3,
         "homo": -0.2126,
         "lumo": 0.0044,
         "gap": 0.217,
         "r2": 452.8301,
         "zpve": 0.075973,
         "u0": -297.52358300000003,
         "u298": -297.51860600000003,
         "h298": -297.51766200000003,
         "g298": -297.55163,
         "cv": 18.15,
         "u0_atom": -937.186574027,
         "u298_atom": -942.950244192,
         "h298_atom": -948.284070692,
         "g298_atom": -872.0492572999999,
         "_deepnote_index_column": 760
        },
        {
         "mol_id": "gdb_801",
         "A": 4.56843,
         "B": 1.61921,
         "C": 1.53383,
         "mu": 1.4965,
         "alpha": 60.35,
         "homo": -0.2437,
         "lumo": 0.0114,
         "gap": 0.255,
         "r2": 867.5699,
         "zpve": 0.133694,
         "u0": -362.875317,
         "u298": -362.866609,
         "h298": -362.865665,
         "g298": -362.908204,
         "cv": 30.765,
         "u0_atom": -1426.1729622771,
         "u298_atom": -1434.927967845,
         "h298_atom": -1443.819142866,
         "g298_atom": -1321.930539688,
         "_deepnote_index_column": 800
        },
        {
         "mol_id": "gdb_841",
         "A": 7.32966,
         "B": 1.97888,
         "C": 1.57631,
         "mu": 1.5216,
         "alpha": 60.58,
         "homo": -0.1811,
         "lumo": 0.045,
         "gap": 0.2261,
         "r2": 766.5941,
         "zpve": 0.114088,
         "u0": -324.608363,
         "u298": -324.601467,
         "h298": -324.600523,
         "g298": -324.638872,
         "cv": 25.418000000000003,
         "u0_atom": -1395.675397368,
         "u298_atom": -1403.790971265,
         "h298_atom": -1411.496154276,
         "g298_atom": -1303.567743821,
         "_deepnote_index_column": 840
        },
        {
         "mol_id": "gdb_881",
         "A": 6.6808,
         "B": 2.22439,
         "C": 1.6862700000000002,
         "mu": 3.5255,
         "alpha": 57.83,
         "homo": -0.1875,
         "lumo": 0.0349,
         "gap": 0.2224,
         "r2": 712.3352,
         "zpve": 0.102241,
         "u0": -340.667287,
         "u298": -340.660561,
         "h298": -340.659617,
         "g298": -340.697882,
         "cv": 24.249,
         "u0_atom": -1284.04656634,
         "u298_atom": -1291.379636514,
         "h298_atom": -1298.49182352,
         "g298_atom": -1198.370252534,
         "_deepnote_index_column": 880
        },
        {
         "mol_id": "gdb_921",
         "A": 5.85008,
         "B": 2.92013,
         "C": 1.94784,
         "mu": 5.7625,
         "alpha": 54.88,
         "homo": -0.2398,
         "lumo": -0.0592,
         "gap": 0.1806,
         "r2": 598.3612,
         "zpve": 0.081719,
         "u0": -339.498757,
         "u298": -339.49358,
         "h298": -339.492636,
         "g298": -339.527754,
         "cv": 19.314,
         "u0_atom": -1178.635094484,
         "u298_atom": -1185.163070611,
         "h298_atom": -1191.089265607,
         "g298_atom": -1105.326983068,
         "_deepnote_index_column": 920
        },
        {
         "mol_id": "gdb_961",
         "A": 3.51132,
         "B": 3.3633800000000003,
         "C": 1.7553299999999998,
         "mu": 3.4972,
         "alpha": 63.54,
         "homo": -0.2061,
         "lumo": 0.0383,
         "gap": 0.2443,
         "r2": 716.3821,
         "zpve": 0.126183,
         "u0": -304.752598,
         "u298": -304.745444,
         "h298": -304.7445,
         "g298": -304.783881,
         "cv": 25.475,
         "u0_atom": -1473.913219488,
         "u298_atom": -1482.7554488070998,
         "h298_atom": -1491.053627823,
         "g298_atom": -1375.5536937741,
         "_deepnote_index_column": 960
        }
       ],
       "rows_bottom": [
        {
         "mol_id": "gdb_119001",
         "A": 3.38051,
         "B": 0.8638899999999999,
         "C": 0.84814,
         "mu": 1.3286,
         "alpha": 88.64,
         "homo": -0.2577,
         "lumo": 0.0706,
         "gap": 0.3283,
         "r2": 1567.9836,
         "zpve": 0.229232,
         "u0": -389.518273,
         "u298": -389.508077,
         "h298": -389.507133,
         "g298": -389.553683,
         "cv": 38.757,
         "u0_atom": -2306.1897013501,
         "u298_atom": -2322.0104582581,
         "h298_atom": -2336.237342306,
         "g298_atom": -2139.042011547,
         "_deepnote_index_column": 119000
        },
        {
         "mol_id": "gdb_119041",
         "A": 2.39882,
         "B": 1.03017,
         "C": 0.83329,
         "mu": 0.9355,
         "alpha": 90.34,
         "homo": -0.2499,
         "lumo": 0.0784,
         "gap": 0.3283,
         "r2": 1546.5466,
         "zpve": 0.226577,
         "u0": -389.47595,
         "u298": -389.464697,
         "h298": -389.463753,
         "g298": -389.512734,
         "cv": 40.694,
         "u0_atom": -2279.6316379431,
         "u298_atom": -2294.7891178381,
         "h298_atom": -2309.016001886,
         "g298_atom": -2113.3461455061,
         "_deepnote_index_column": 119040
        },
        {
         "mol_id": "gdb_119081",
         "A": 2.06272,
         "B": 1.17805,
         "C": 0.8985799999999999,
         "mu": 0.96,
         "alpha": 88.96,
         "homo": -0.2413,
         "lumo": 0.0791,
         "gap": 0.3204,
         "r2": 1472.8555,
         "zpve": 0.2275449999999999,
         "u0": -389.481116,
         "u298": -389.470543,
         "h298": -389.469599,
         "g298": -389.516802,
         "cv": 39.309,
         "u0_atom": -2282.8733494371,
         "u298_atom": -2298.4575354521,
         "h298_atom": -2312.6844195,
         "g298_atom": -2115.8988521181,
         "_deepnote_index_column": 119080
        },
        {
         "mol_id": "gdb_119121",
         "A": 2.44854,
         "B": 1.23991,
         "C": 0.94263,
         "mu": 3.0043,
         "alpha": 76.31,
         "homo": -0.2367,
         "lumo": 0.0294,
         "gap": 0.2661,
         "r2": 1312.1559,
         "zpve": 0.16938,
         "u0": -440.306034,
         "u298": -440.29619,
         "h298": -440.295246,
         "g298": -440.3410070000001,
         "cv": 36.496,
         "u0_atom": -1888.4130344201,
         "u298_atom": -1900.0106557581,
         "h298_atom": -1911.272559781,
         "g298_atom": -1753.8543970231,
         "_deepnote_index_column": 119120
        },
        {
         "mol_id": "gdb_119161",
         "A": 3.33517,
         "B": 0.93451,
         "C": 0.81274,
         "mu": 2.1454,
         "alpha": 81.9,
         "homo": -0.2428,
         "lumo": 0.0845,
         "gap": 0.3273,
         "r2": 1509.802,
         "zpve": 0.19363,
         "u0": -404.304885,
         "u298": -404.295185,
         "h298": -404.29424,
         "g298": -404.33997,
         "cv": 35.814,
         "u0_atom": -2024.0252594281,
         "u298_atom": -2037.4909750591,
         "h298_atom": -2049.938243583,
         "g298_atom": -1876.4219649391,
         "_deepnote_index_column": 119160
        },
        {
         "mol_id": "gdb_119201",
         "A": 1.86131,
         "B": 1.30481,
         "C": 0.89107,
         "mu": 3.8044,
         "alpha": 77.74,
         "homo": -0.233,
         "lumo": 0.025,
         "gap": 0.258,
         "r2": 1365.6866,
         "zpve": 0.157962,
         "u0": -419.191041,
         "u298": -419.18123,
         "h298": -419.180286,
         "g298": -419.22606,
         "cv": 35.767,
         "u0_atom": -1804.325573402,
         "u298_atom": -1815.0553497931,
         "h298_atom": -1825.724257811,
         "g298_atom": -1676.4291990581,
         "_deepnote_index_column": 119200
        },
        {
         "mol_id": "gdb_119241",
         "A": 2.04171,
         "B": 1.14823,
         "C": 0.87815,
         "mu": 3.4436,
         "alpha": 83.15,
         "homo": -0.246,
         "lumo": 0.0297,
         "gap": 0.2757,
         "r2": 1447.1726,
         "zpve": 0.19299,
         "u0": -404.369482,
         "u298": -404.35925,
         "h298": -404.358306,
         "g298": -404.405395,
         "cv": 37.255,
         "u0_atom": -2064.5604583011,
         "u298_atom": -2077.6923391441,
         "h298_atom": -2090.140235177,
         "g298_atom": -1917.4767412641,
         "_deepnote_index_column": 119240
        },
        {
         "mol_id": "gdb_119281",
         "A": 2.2264,
         "B": 1.18153,
         "C": 0.91002,
         "mu": 1.6031,
         "alpha": 84.92,
         "homo": -0.2508,
         "lumo": 0.0278,
         "gap": 0.2786,
         "r2": 1398.485,
         "zpve": 0.180086,
         "u0": -387.044017,
         "u298": -387.033953,
         "h298": -387.033008,
         "g298": -387.079587,
         "cv": 36.71,
         "u0_atom": -2009.2750328741,
         "u298_atom": -2021.6244099941,
         "h298_atom": -2033.478682513,
         "g298_atom": -1868.9696680551,
         "_deepnote_index_column": 119280
        },
        {
         "mol_id": "gdb_119321",
         "A": 2.21429,
         "B": 1.20726,
         "C": 0.92037,
         "mu": 2.2493,
         "alpha": 71.91,
         "homo": -0.2467,
         "lumo": -0.0357,
         "gap": 0.211,
         "r2": 1316.9051,
         "zpve": 0.15659,
         "u0": -460.14317,
         "u298": -460.133276,
         "h298": -460.132332,
         "g298": -460.179076,
         "cv": 34.379,
         "u0_atom": -1798.4853471391,
         "u298_atom": -1809.1630402831,
         "h298_atom": -1819.831948301,
         "g298_atom": -1671.2497397721,
         "_deepnote_index_column": 119320
        },
        {
         "mol_id": "gdb_119361",
         "A": 3.0089900000000003,
         "B": 1.04771,
         "C": 0.9204,
         "mu": 2.8222,
         "alpha": 83.48,
         "homo": -0.2351,
         "lumo": 0.0155,
         "gap": 0.2505,
         "r2": 1384.4502,
         "zpve": 0.18227,
         "u0": -387.070381,
         "u298": -387.061364,
         "h298": -387.06042,
         "g298": -387.104716,
         "cv": 33.813,
         "u0_atom": -2025.8186801501,
         "u298_atom": -2038.8250591931,
         "h298_atom": -2050.679959221,
         "g298_atom": -1884.7383417161,
         "_deepnote_index_column": 119360
        },
        {
         "mol_id": "gdb_119401",
         "A": 3.8972,
         "B": 1.00409,
         "C": 0.95419,
         "mu": 0.9664,
         "alpha": 85.97,
         "homo": -0.2395,
         "lumo": 0.0884,
         "gap": 0.3279,
         "r2": 1378.3398,
         "zpve": 0.2071,
         "u0": -388.283536,
         "u298": -388.274814,
         "h298": -388.27387,
         "g298": -388.317293,
         "cv": 34.154,
         "u0_atom": -2159.2327411311,
         "u298_atom": -2174.201340817,
         "h298_atom": -2187.242232855,
         "g298_atom": -2004.418740723,
         "_deepnote_index_column": 119400
        },
        {
         "mol_id": "gdb_119441",
         "A": 4.65632,
         "B": 0.8679,
         "C": 0.81388,
         "mu": 3.8332,
         "alpha": 77.94,
         "homo": -0.2409,
         "lumo": -0.0095,
         "gap": 0.2314,
         "r2": 1455.2461,
         "zpve": 0.157217,
         "u0": -423.009605,
         "u298": -423.000589,
         "h298": -422.9996440000001,
         "g298": -423.044167,
         "cv": 33.212,
         "u0_atom": -1851.3479603171,
         "u298_atom": -1862.577233872,
         "h298_atom": -1873.245514381,
         "g298_atom": -1723.5250045260998,
         "_deepnote_index_column": 119440
        },
        {
         "mol_id": "gdb_119481",
         "A": 3.75931,
         "B": 0.93243,
         "C": 0.86346,
         "mu": 0.3253,
         "alpha": 89.46,
         "homo": -0.2029,
         "lumo": 0.086,
         "gap": 0.2888,
         "r2": 1480.1998,
         "zpve": 0.20551,
         "u0": -351.091484,
         "u298": -351.082476,
         "h298": -351.081531,
         "g298": -351.125449,
         "cv": 35.35,
         "u0_atom": -2175.3942354260003,
         "u298_atom": -2190.1839950471,
         "h298_atom": -2203.224259576,
         "g298_atom": -2020.9667805621,
         "_deepnote_index_column": 119480
        },
        {
         "mol_id": "gdb_119521",
         "A": 3.961030000000001,
         "B": 0.92507,
         "C": 0.8417899999999999,
         "mu": 0.2455,
         "alpha": 90.7,
         "homo": -0.2223,
         "lumo": 0.0252,
         "gap": 0.2475,
         "r2": 1486.5568,
         "zpve": 0.206478,
         "u0": -351.163634,
         "u298": -351.154629,
         "h298": -351.153685,
         "g298": -351.19749,
         "cv": 35.101,
         "u0_atom": -2220.669009776,
         "u298_atom": -2235.4606519241,
         "h298_atom": -2248.501543962,
         "g298_atom": -2066.1731564311,
         "_deepnote_index_column": 119520
        },
        {
         "mol_id": "gdb_119561",
         "A": 2.80172,
         "B": 0.99588,
         "C": 0.8539,
         "mu": 1.1688,
         "alpha": 85.86,
         "homo": -0.2443,
         "lumo": 0.0802,
         "gap": 0.3245,
         "r2": 1459.5839,
         "zpve": 0.205104,
         "u0": -388.262504,
         "u298": -388.252664,
         "h298": -388.25172,
         "g298": -388.297414,
         "cv": 37.021,
         "u0_atom": -2146.034971843,
         "u298_atom": -2160.3020164671,
         "h298_atom": -2173.342908505,
         "g298_atom": -1991.9444893121,
         "_deepnote_index_column": 119560
        },
        {
         "mol_id": "gdb_119601",
         "A": 4.13926,
         "B": 0.92876,
         "C": 0.85145,
         "mu": 2.5728,
         "alpha": 80.46,
         "homo": -0.218,
         "lumo": 0.0124,
         "gap": 0.2304,
         "r2": 1401.6883,
         "zpve": 0.1711869999999999,
         "u0": -403.120828,
         "u298": -403.112114,
         "h298": -403.111169,
         "g298": -403.15463,
         "cv": 33.026,
         "u0_atom": -1908.8704553291,
         "u298_atom": -1921.177789346,
         "h298_atom": -1932.43906586,
         "g298_atom": -1773.8330285651,
         "_deepnote_index_column": 119600
        },
        {
         "mol_id": "gdb_119641",
         "A": 4.36721,
         "B": 1.01139,
         "C": 0.96675,
         "mu": 1.1765,
         "alpha": 82.98,
         "homo": -0.243,
         "lumo": 0.08,
         "gap": 0.3229999999999999,
         "r2": 1320.1242,
         "zpve": 0.182668,
         "u0": -387.026546,
         "u298": -387.0181,
         "h298": -387.017155,
         "g298": -387.060108,
         "cv": 32.322,
         "u0_atom": -1998.311823135,
         "u298_atom": -2011.6765098171,
         "h298_atom": -2023.530782336,
         "g298_atom": -1856.7464202441,
         "_deepnote_index_column": 119640
        },
        {
         "mol_id": "gdb_119681",
         "A": 4.21384,
         "B": 0.94711,
         "C": 0.92455,
         "mu": 1.529,
         "alpha": 86.05,
         "homo": -0.231,
         "lumo": 0.09,
         "gap": 0.321,
         "r2": 1407.8741,
         "zpve": 0.19497,
         "u0": -367.155097,
         "u298": -367.146553,
         "h298": -367.145609,
         "g298": -367.188719,
         "cv": 33.125,
         "u0_atom": -2066.7077940991,
         "u298_atom": -2080.8995376431,
         "h298_atom": -2093.347433676,
         "g298_atom": -1918.4424776151,
         "_deepnote_index_column": 119680
        },
        {
         "mol_id": "gdb_119721",
         "A": 3.66788,
         "B": 0.96732,
         "C": 0.8708600000000001,
         "mu": 2.2176,
         "alpha": 72.34,
         "homo": -0.2356,
         "lumo": 0.0586,
         "gap": 0.2943,
         "r2": 1380.0757,
         "zpve": 0.157648,
         "u0": -460.092929,
         "u298": -460.08379,
         "h298": -460.082846,
         "g298": -460.127376,
         "cv": 33.204,
         "u0_atom": -1766.9586674701002,
         "u298_atom": -1778.1101299091,
         "h298_atom": -1788.7790379270998,
         "g298_atom": -1638.8075244721,
         "_deepnote_index_column": 119720
        },
        {
         "mol_id": "gdb_119761",
         "A": 3.99168,
         "B": 0.83624,
         "C": 0.7034699999999999,
         "mu": 5.015,
         "alpha": 81.48,
         "homo": -0.2308,
         "lumo": -0.0361,
         "gap": 0.1947,
         "r2": 1593.0287,
         "zpve": 0.158363,
         "u0": -423.056938,
         "u298": -423.047741,
         "h298": -423.046797,
         "g298": -423.091858,
         "cv": 32.66,
         "u0_atom": -1881.0498438141,
         "u298_atom": -1892.1655382401,
         "h298_atom": -1902.834446258,
         "g298_atom": -1753.4515362451,
         "_deepnote_index_column": 119760
        },
        {
         "mol_id": "gdb_119801",
         "A": 5.18877,
         "B": 0.77713,
         "C": 0.73183,
         "mu": 1.4981,
         "alpha": 85.16,
         "homo": -0.2182,
         "lumo": 0.0249,
         "gap": 0.243,
         "r2": 1588.0913,
         "zpve": 0.18331,
         "u0": -387.085726,
         "u298": -387.076837,
         "h298": -387.075892,
         "g298": -387.119935,
         "cv": 33.679,
         "u0_atom": -2035.4478057551,
         "u298_atom": -2048.5345059501,
         "h298_atom": -2060.388778469,
         "g298_atom": -1894.288401187,
         "_deepnote_index_column": 119800
        },
        {
         "mol_id": "gdb_119841",
         "A": 3.94552,
         "B": 0.86721,
         "C": 0.78294,
         "mu": 1.5307,
         "alpha": 89.12,
         "homo": -0.2233,
         "lumo": 0.0231,
         "gap": 0.2464,
         "r2": 1564.3717,
         "zpve": 0.195351,
         "u0": -367.204385,
         "u298": -367.195422,
         "h298": -367.194478,
         "g298": -367.238669,
         "cv": 34.122,
         "u0_atom": -2097.6364576911,
         "u298_atom": -2111.5652749641,
         "h298_atom": -2124.013170997,
         "g298_atom": -1949.7865521651,
         "_deepnote_index_column": 119840
        },
        {
         "mol_id": "gdb_119881",
         "A": 3.19361,
         "B": 0.9522,
         "C": 0.76937,
         "mu": 2.1015,
         "alpha": 82.56,
         "homo": -0.2256,
         "lumo": 0.0249,
         "gap": 0.2504,
         "r2": 1526.9923,
         "zpve": 0.180804,
         "u0": -424.221164,
         "u298": -424.211275,
         "h298": -424.210331,
         "g298": -424.256765,
         "cv": 35.025,
         "u0_atom": -1983.7605169341,
         "u298_atom": -1996.2190806201,
         "h298_atom": -2008.073980648,
         "g298_atom": -1843.2185812221,
         "_deepnote_index_column": 119880
        },
        {
         "mol_id": "gdb_119921",
         "A": 2.10725,
         "B": 1.32493,
         "C": 0.99001,
         "mu": 5.1853,
         "alpha": 79.75,
         "homo": -0.2588,
         "lumo": 0.02,
         "gap": 0.2788,
         "r2": 1277.2733,
         "zpve": 0.16995,
         "u0": -403.150108,
         "u298": -403.140083,
         "h298": -403.139139,
         "g298": -403.18593,
         "cv": 35.924,
         "u0_atom": -1927.2439188491,
         "u298_atom": -1938.7285885671,
         "h298_atom": -1949.99049259,
         "g298_atom": -1793.474060265,
         "_deepnote_index_column": 119920
        },
        {
         "mol_id": "gdb_119961",
         "A": 2.71733,
         "B": 0.88321,
         "C": 0.77467,
         "mu": 2.0542,
         "alpha": 74.97,
         "homo": -0.2448,
         "lumo": -0.0222,
         "gap": 0.2226,
         "r2": 1526.2865,
         "zpve": 0.156387,
         "u0": -460.133937,
         "u298": -460.123887,
         "h298": -460.122942,
         "g298": -460.169889,
         "cv": 35.111,
         "u0_atom": -1792.6915565421,
         "u298_atom": -1803.271358282,
         "h298_atom": -1813.939638791,
         "g298_atom": -1665.4848145891,
         "_deepnote_index_column": 119960
        }
       ]
      },
      "text/plain": "            mol_id          A          B          C      mu  alpha    homo  \\\n0            gdb_1  157.71180  157.70997  157.70699  0.0000  13.21 -0.3877   \n40          gdb_41   28.29567    4.14901    3.88349  1.0363  39.34 -0.2503   \n80          gdb_81    7.57282    3.52550    2.65861  1.3149  49.26 -0.2629   \n120        gdb_121   23.52902    2.22059    2.10822  0.7752  51.47 -0.2586   \n160        gdb_161    7.86090    7.51415    4.27374  1.3482  38.20 -0.2572   \n...            ...        ...        ...        ...     ...    ...     ...   \n119800  gdb_119801    5.18877    0.77713    0.73183  1.4981  85.16 -0.2182   \n119840  gdb_119841    3.94552    0.86721    0.78294  1.5307  89.12 -0.2233   \n119880  gdb_119881    3.19361    0.95220    0.76937  2.1015  82.56 -0.2256   \n119920  gdb_119921    2.10725    1.32493    0.99001  5.1853  79.75 -0.2588   \n119960  gdb_119961    2.71733    0.88321    0.77467  2.0542  74.97 -0.2448   \n\n          lumo     gap         r2      zpve          u0        u298  \\\n0       0.1171  0.5048    35.3641  0.044749  -40.478930  -40.476062   \n40      0.0925  0.3428   368.9331  0.107895 -194.254127 -194.248585   \n80      0.0789  0.3418   516.4357  0.136209 -233.551389 -233.544542   \n120     0.0583  0.3169   593.0141  0.112736 -195.186228 -195.179881   \n160     0.0865  0.3437   333.7970  0.092697 -268.273739 -268.269015   \n...        ...     ...        ...       ...         ...         ...   \n119800  0.0249  0.2430  1588.0913  0.183310 -387.085726 -387.076837   \n119840  0.0231  0.2464  1564.3717  0.195351 -367.204385 -367.195422   \n119880  0.0249  0.2504  1526.9923  0.180804 -424.221164 -424.211275   \n119920  0.0200  0.2788  1277.2733  0.169950 -403.150108 -403.140083   \n119960 -0.0222  0.2226  1526.2865  0.156387 -460.133937 -460.123887   \n\n              h298        g298      cv      u0_atom    u298_atom    h298_atom  \\\n0       -40.475117  -40.498597   6.469  -395.999595  -398.643290  -401.014647   \n40     -194.247641 -194.281899  17.888 -1033.537443 -1040.724304 -1047.245378   \n80     -233.543598 -233.581067  23.924 -1315.881353 -1324.915600 -1333.215034   \n120    -195.178937 -195.215412  22.023 -1223.758012 -1231.329535 -1238.442977   \n160    -268.268071 -268.302293  15.172 -1005.662866 -1012.474476 -1018.401926   \n...            ...         ...     ...          ...          ...          ...   \n119800 -387.075892 -387.119935  33.679 -2035.447806 -2048.534506 -2060.388778   \n119840 -367.194478 -367.238669  34.122 -2097.636458 -2111.565275 -2124.013171   \n119880 -424.210331 -424.256765  35.025 -1983.760517 -1996.219081 -2008.073981   \n119920 -403.139139 -403.185930  35.924 -1927.243919 -1938.728589 -1949.990493   \n119960 -460.122942 -460.169889  35.111 -1792.691557 -1803.271358 -1813.939639   \n\n          g298_atom  \n0       -372.471772  \n40      -960.716279  \n80     -1221.758140  \n120    -1142.951795  \n160     -937.320233  \n...             ...  \n119800 -1894.288401  \n119840 -1949.786552  \n119880 -1843.218581  \n119920 -1793.474060  \n119960 -1665.484815  \n\n[3000 rows x 20 columns]",
      "text/html": "<div>\n<style scoped>\n    .dataframe tbody tr th:only-of-type {\n        vertical-align: middle;\n    }\n\n    .dataframe tbody tr th {\n        vertical-align: top;\n    }\n\n    .dataframe thead th {\n        text-align: right;\n    }\n</style>\n<table border=\"1\" class=\"dataframe\">\n  <thead>\n    <tr style=\"text-align: right;\">\n      <th></th>\n      <th>mol_id</th>\n      <th>A</th>\n      <th>B</th>\n      <th>C</th>\n      <th>mu</th>\n      <th>alpha</th>\n      <th>homo</th>\n      <th>lumo</th>\n      <th>gap</th>\n      <th>r2</th>\n      <th>zpve</th>\n      <th>u0</th>\n      <th>u298</th>\n      <th>h298</th>\n      <th>g298</th>\n      <th>cv</th>\n      <th>u0_atom</th>\n      <th>u298_atom</th>\n      <th>h298_atom</th>\n      <th>g298_atom</th>\n    </tr>\n  </thead>\n  <tbody>\n    <tr>\n      <th>0</th>\n      <td>gdb_1</td>\n      <td>157.71180</td>\n      <td>157.70997</td>\n      <td>157.70699</td>\n      <td>0.0000</td>\n      <td>13.21</td>\n      <td>-0.3877</td>\n      <td>0.1171</td>\n      <td>0.5048</td>\n      <td>35.3641</td>\n      <td>0.044749</td>\n      <td>-40.478930</td>\n      <td>-40.476062</td>\n      <td>-40.475117</td>\n      <td>-40.498597</td>\n      <td>6.469</td>\n      <td>-395.999595</td>\n      <td>-398.643290</td>\n      <td>-401.014647</td>\n      <td>-372.471772</td>\n    </tr>\n    <tr>\n      <th>40</th>\n      <td>gdb_41</td>\n      <td>28.29567</td>\n      <td>4.14901</td>\n      <td>3.88349</td>\n      <td>1.0363</td>\n      <td>39.34</td>\n      <td>-0.2503</td>\n      <td>0.0925</td>\n      <td>0.3428</td>\n      <td>368.9331</td>\n      <td>0.107895</td>\n      <td>-194.254127</td>\n      <td>-194.248585</td>\n      <td>-194.247641</td>\n      <td>-194.281899</td>\n      <td>17.888</td>\n      <td>-1033.537443</td>\n      <td>-1040.724304</td>\n      <td>-1047.245378</td>\n      <td>-960.716279</td>\n    </tr>\n    <tr>\n      <th>80</th>\n      <td>gdb_81</td>\n      <td>7.57282</td>\n      <td>3.52550</td>\n      <td>2.65861</td>\n      <td>1.3149</td>\n      <td>49.26</td>\n      <td>-0.2629</td>\n      <td>0.0789</td>\n      <td>0.3418</td>\n      <td>516.4357</td>\n      <td>0.136209</td>\n      <td>-233.551389</td>\n      <td>-233.544542</td>\n      <td>-233.543598</td>\n      <td>-233.581067</td>\n      <td>23.924</td>\n      <td>-1315.881353</td>\n      <td>-1324.915600</td>\n      <td>-1333.215034</td>\n      <td>-1221.758140</td>\n    </tr>\n    <tr>\n      <th>120</th>\n      <td>gdb_121</td>\n      <td>23.52902</td>\n      <td>2.22059</td>\n      <td>2.10822</td>\n      <td>0.7752</td>\n      <td>51.47</td>\n      <td>-0.2586</td>\n      <td>0.0583</td>\n      <td>0.3169</td>\n      <td>593.0141</td>\n      <td>0.112736</td>\n      <td>-195.186228</td>\n      <td>-195.179881</td>\n      <td>-195.178937</td>\n      <td>-195.215412</td>\n      <td>22.023</td>\n      <td>-1223.758012</td>\n      <td>-1231.329535</td>\n      <td>-1238.442977</td>\n      <td>-1142.951795</td>\n    </tr>\n    <tr>\n      <th>160</th>\n      <td>gdb_161</td>\n      <td>7.86090</td>\n      <td>7.51415</td>\n      <td>4.27374</td>\n      <td>1.3482</td>\n      <td>38.20</td>\n      <td>-0.2572</td>\n      <td>0.0865</td>\n      <td>0.3437</td>\n      <td>333.7970</td>\n      <td>0.092697</td>\n      <td>-268.273739</td>\n      <td>-268.269015</td>\n      <td>-268.268071</td>\n      <td>-268.302293</td>\n      <td>15.172</td>\n      <td>-1005.662866</td>\n      <td>-1012.474476</td>\n      <td>-1018.401926</td>\n      <td>-937.320233</td>\n    </tr>\n    <tr>\n      <th>...</th>\n      <td>...</td>\n      <td>...</td>\n      <td>...</td>\n      <td>...</td>\n      <td>...</td>\n      <td>...</td>\n      <td>...</td>\n      <td>...</td>\n      <td>...</td>\n      <td>...</td>\n      <td>...</td>\n      <td>...</td>\n      <td>...</td>\n      <td>...</td>\n      <td>...</td>\n      <td>...</td>\n      <td>...</td>\n      <td>...</td>\n      <td>...</td>\n      <td>...</td>\n    </tr>\n    <tr>\n      <th>119800</th>\n      <td>gdb_119801</td>\n      <td>5.18877</td>\n      <td>0.77713</td>\n      <td>0.73183</td>\n      <td>1.4981</td>\n      <td>85.16</td>\n      <td>-0.2182</td>\n      <td>0.0249</td>\n      <td>0.2430</td>\n      <td>1588.0913</td>\n      <td>0.183310</td>\n      <td>-387.085726</td>\n      <td>-387.076837</td>\n      <td>-387.075892</td>\n      <td>-387.119935</td>\n      <td>33.679</td>\n      <td>-2035.447806</td>\n      <td>-2048.534506</td>\n      <td>-2060.388778</td>\n      <td>-1894.288401</td>\n    </tr>\n    <tr>\n      <th>119840</th>\n      <td>gdb_119841</td>\n      <td>3.94552</td>\n      <td>0.86721</td>\n      <td>0.78294</td>\n      <td>1.5307</td>\n      <td>89.12</td>\n      <td>-0.2233</td>\n      <td>0.0231</td>\n      <td>0.2464</td>\n      <td>1564.3717</td>\n      <td>0.195351</td>\n      <td>-367.204385</td>\n      <td>-367.195422</td>\n      <td>-367.194478</td>\n      <td>-367.238669</td>\n      <td>34.122</td>\n      <td>-2097.636458</td>\n      <td>-2111.565275</td>\n      <td>-2124.013171</td>\n      <td>-1949.786552</td>\n    </tr>\n    <tr>\n      <th>119880</th>\n      <td>gdb_119881</td>\n      <td>3.19361</td>\n      <td>0.95220</td>\n      <td>0.76937</td>\n      <td>2.1015</td>\n      <td>82.56</td>\n      <td>-0.2256</td>\n      <td>0.0249</td>\n      <td>0.2504</td>\n      <td>1526.9923</td>\n      <td>0.180804</td>\n      <td>-424.221164</td>\n      <td>-424.211275</td>\n      <td>-424.210331</td>\n      <td>-424.256765</td>\n      <td>35.025</td>\n      <td>-1983.760517</td>\n      <td>-1996.219081</td>\n      <td>-2008.073981</td>\n      <td>-1843.218581</td>\n    </tr>\n    <tr>\n      <th>119920</th>\n      <td>gdb_119921</td>\n      <td>2.10725</td>\n      <td>1.32493</td>\n      <td>0.99001</td>\n      <td>5.1853</td>\n      <td>79.75</td>\n      <td>-0.2588</td>\n      <td>0.0200</td>\n      <td>0.2788</td>\n      <td>1277.2733</td>\n      <td>0.169950</td>\n      <td>-403.150108</td>\n      <td>-403.140083</td>\n      <td>-403.139139</td>\n      <td>-403.185930</td>\n      <td>35.924</td>\n      <td>-1927.243919</td>\n      <td>-1938.728589</td>\n      <td>-1949.990493</td>\n      <td>-1793.474060</td>\n    </tr>\n    <tr>\n      <th>119960</th>\n      <td>gdb_119961</td>\n      <td>2.71733</td>\n      <td>0.88321</td>\n      <td>0.77467</td>\n      <td>2.0542</td>\n      <td>74.97</td>\n      <td>-0.2448</td>\n      <td>-0.0222</td>\n      <td>0.2226</td>\n      <td>1526.2865</td>\n      <td>0.156387</td>\n      <td>-460.133937</td>\n      <td>-460.123887</td>\n      <td>-460.122942</td>\n      <td>-460.169889</td>\n      <td>35.111</td>\n      <td>-1792.691557</td>\n      <td>-1803.271358</td>\n      <td>-1813.939639</td>\n      <td>-1665.484815</td>\n    </tr>\n  </tbody>\n</table>\n<p>3000 rows × 20 columns</p>\n</div>"
     },
     "metadata": {}
    }
   ]
  },
  {
   "cell_type": "code",
   "metadata": {
    "tags": [],
    "cell_id": "00023-7c351e05-25d4-4361-ad23-37a58c06371c",
    "deepnote_to_be_reexecuted": false,
    "source_hash": "e8c43b56",
    "execution_start": 1622971115199,
    "execution_millis": 2,
    "deepnote_cell_type": "code"
   },
   "source": "#We are going to use column u0 as a target properties\n\ntarget = qm9_data['u0']\nprint(target)",
   "execution_count": 24,
   "outputs": [
    {
     "name": "stdout",
     "text": "0         -40.478930\n40       -194.254127\n80       -233.551389\n120      -195.186228\n160      -268.273739\n             ...    \n119800   -387.085726\n119840   -367.204385\n119880   -424.221164\n119920   -403.150108\n119960   -460.133937\nName: u0, Length: 3000, dtype: float64\n",
     "output_type": "stream"
    }
   ]
  },
  {
   "cell_type": "code",
   "metadata": {
    "tags": [],
    "cell_id": "00012-e32fb452-575a-4f61-aedf-c0b5e00a3749",
    "deepnote_to_be_reexecuted": false,
    "source_hash": "c010256c",
    "execution_start": 1622971119054,
    "execution_millis": 12538,
    "deepnote_cell_type": "code"
   },
   "source": "# We read xyz coorinates of all the molecules with ase aio.read tool\nase_mols = [aio.read('data/qm9/qm9_xyz/' + mol + '.xyz') for mol in qm9_data.mol_id]",
   "execution_count": 25,
   "outputs": []
  },
  {
   "cell_type": "code",
   "source": "atomic_numbers_list = [amol.get_atomic_numbers() for amol in ase_mols]",
   "metadata": {
    "tags": [],
    "cell_id": "00026-502c60b1-65b7-419c-b33b-58b4fa216b4e",
    "deepnote_to_be_reexecuted": false,
    "source_hash": "13ec0497",
    "execution_start": 1622971540085,
    "execution_millis": 6,
    "deepnote_cell_type": "code"
   },
   "outputs": [],
   "execution_count": 38
  },
  {
   "cell_type": "code",
   "metadata": {
    "tags": [],
    "cell_id": "00024-7eaa2988-b5ef-44e3-8f5c-bfb7e95627ac",
    "deepnote_to_be_reexecuted": false,
    "source_hash": "806dcdcb",
    "execution_start": 1622971134969,
    "execution_millis": 50,
    "deepnote_cell_type": "code"
   },
   "source": "#Check the size of molecules in the dataset\nsize=[]\nfor mol in ase_mols:\n    num = len(mol.get_atomic_numbers())\n    size.append(num)\nmax(size) #maximum size of the molecule in the dataset",
   "execution_count": 26,
   "outputs": [
    {
     "output_type": "execute_result",
     "execution_count": 26,
     "data": {
      "text/plain": "27"
     },
     "metadata": {}
    }
   ]
  },
  {
   "cell_type": "markdown",
   "source": "## Kernels for molecules\n\nTo be able to generate kernels for the database of molecule, we need to translate the xyz structure into suitable representations. Let's try to represent our database with CM, Bob and SLATM.",
   "metadata": {
    "tags": [],
    "cell_id": "00025-d6a77f3e-1d21-4a80-8615-cdd78be30176",
    "deepnote_cell_type": "markdown"
   }
  },
  {
   "cell_type": "markdown",
   "source": "## The Coulomb Matrix\n\nTo compute the CM representations for the large number of structures, we need to know cartesian coordinates and atomic numbers. We can easily print these with ase tools.",
   "metadata": {
    "tags": [],
    "cell_id": "00025-596c31f7-ff5c-4903-96be-034f436aade2",
    "deepnote_cell_type": "markdown"
   }
  },
  {
   "cell_type": "code",
   "metadata": {
    "tags": [],
    "cell_id": "00019-2e4ad1df-1c53-41e2-aeaa-d2b1aef8ab03",
    "deepnote_to_be_reexecuted": false,
    "source_hash": "881eda0b",
    "execution_start": 1622971139422,
    "execution_millis": 97,
    "deepnote_cell_type": "code"
   },
   "source": "import numpy as np\nfrom qml.representations import * \n\ncm = []\nsize = 27\nfor structure in ase_mols: # Runs for loop over every molecule in the database\n    atomic_numbers=structure.get_atomic_numbers() # ASE prints atomic numbers \n    coordinates=structure.get_positions() #ASE prints coordinates\n    cm1 = generate_coulomb_matrix(atomic_numbers,\n    coordinates,size=size, sorting=\"row-norm\") # CM representation is saved into cm1\n    cm.append(cm1) # All CM representations are added into one variable\ncm = np.array(cm)",
   "execution_count": 27,
   "outputs": []
  },
  {
   "cell_type": "markdown",
   "source": "### Bob",
   "metadata": {
    "tags": [],
    "cell_id": "00027-a075be70-962c-42b6-a041-7cece676590a",
    "deepnote_cell_type": "markdown"
   }
  },
  {
   "cell_type": "code",
   "metadata": {
    "tags": [],
    "cell_id": "00028-3174bc9e-0761-40fc-b7c1-2cdce6a5bce4",
    "deepnote_to_be_reexecuted": false,
    "source_hash": "f397b9bb",
    "execution_start": 1622971141775,
    "execution_millis": 767,
    "deepnote_cell_type": "code"
   },
   "source": "bob = []\nsize = 27\nC_max = 9\nO_max = 9\nN_max = 9\nF_max = 9\nH_max = 20\nfor structure in ase_mols: # Runs for loop over every molecule in the database\n    atomic_numbers=structure.get_atomic_numbers() # ASE prints atomic numbers\n    coordinates=structure.get_positions() #ASE prints coordinates\n    atypes=structure.get_chemical_symbols()\n    bob1 = generate_bob(atomic_numbers,\n    coordinates,atomtypes=atypes,size=size, asize={'C':C_max,'H':H_max,'N':N_max,'F':F_max,'H':H_max}) # CM representation is saved into cm1\n    bob.append(bob1) # All CM representations are added into one variable\nbob = np.array(bob)",
   "execution_count": 28,
   "outputs": []
  },
  {
   "cell_type": "markdown",
   "source": "### SLATM",
   "metadata": {
    "tags": [],
    "cell_id": "00029-420fd878-ace4-4a27-836b-6bbf18adb544",
    "deepnote_cell_type": "markdown"
   }
  },
  {
   "cell_type": "code",
   "metadata": {
    "tags": [],
    "cell_id": "00029-eb98da5a-ca01-4a2b-b798-9463967f0425",
    "deepnote_to_be_reexecuted": false,
    "source_hash": "a5f7d8d9",
    "execution_start": 1622971552445,
    "execution_millis": 33515,
    "deepnote_cell_type": "code"
   },
   "source": "slatm = []\nmbtypes = get_slatm_mbtypes(atomic_numbers_list)\nfor structure in ase_mols: # Runs for loop over every molecule in the database\n    atomic_numbers = structure.get_atomic_numbers() # ASE prints atomic numbers\n    coordinates = structure.get_positions() #ASE prints coordinates\n    slatm1 = generate_slatm(coordinates,atomic_numbers,mbtypes) # CM representation is saved into cm1\n    slatm.append(slatm1) # All CM representations are added into one variable\nslatm = np.array(slatm)",
   "execution_count": 40,
   "outputs": []
  },
  {
   "cell_type": "code",
   "source": "# SLATM creates representation with very high dimensionality. \n# This shows that we have 3000 representations with 11960 dimensions each\nslatm.shape",
   "metadata": {
    "tags": [],
    "cell_id": "00035-8631d94d-86f2-4582-b89b-58879a57daf1",
    "deepnote_to_be_reexecuted": false,
    "source_hash": "7d8856f8",
    "execution_start": 1622972128643,
    "execution_millis": 17,
    "deepnote_cell_type": "code"
   },
   "outputs": [
    {
     "output_type": "execute_result",
     "execution_count": 43,
     "data": {
      "text/plain": "(3000, 11960)"
     },
     "metadata": {}
    }
   ],
   "execution_count": 43
  },
  {
   "cell_type": "markdown",
   "source": "## Regression with molecular kernels\n\nIn the previous parts, we selected target data and prepared three different representations. We can now use them to define kernels and find $\\alpha$ coefficinets for the rgeression. We need to solve the equation\n\n$\\alpha = (\\mathbf{K} + \\lambda\\mathbf{I} ) ^{-1} \\mathbf{y} $.\n\nTo do so, we will use Cholesky decomposition which is implemented in qml. \n",
   "metadata": {
    "tags": [],
    "cell_id": "00037-dc567d93-8047-48bc-a24e-0a0dc59b9ba5",
    "deepnote_cell_type": "markdown"
   }
  },
  {
   "cell_type": "markdown",
   "source": "### The Coulomb matrix\n\nFirstly, we split cm representation and the target properties into train and test sets. Then, we define the kernel and use it to find the $\\alpha$ coefficient. As a last step we use the coefficients to predict target values for the test set.",
   "metadata": {
    "tags": [],
    "cell_id": "00038-71dac1e7-504f-41d9-a523-a34e878db24d",
    "deepnote_cell_type": "markdown"
   }
  },
  {
   "cell_type": "code",
   "metadata": {
    "tags": [],
    "cell_id": "00027-faef5f40-697b-413e-b75b-c24f5dd0537e",
    "deepnote_to_be_reexecuted": false,
    "source_hash": "ceb2ce0b",
    "execution_start": 1622972391360,
    "execution_millis": 3,
    "deepnote_cell_type": "code"
   },
   "source": "#Let's split the data in training set and test set as in the previous notebooks\nfrom sklearn.model_selection import train_test_split\nX_cm_train, X_cm_test, Y_cm_train, Y_cm_test = train_test_split(cm, target, test_size=0.2, random_state=42)",
   "execution_count": 49,
   "outputs": []
  },
  {
   "cell_type": "code",
   "source": "sigmas = np.arange(500,5000,500)\ntest_maes = []\nfor sigma in sigmas:\n    K_cm = gaussian_kernel(X_cm_train, X_cm_train, sigma)\n\n    # Add a small lambda to the diagonal of the kernel matrix\n    K_cm[np.diag_indices_from(K_cm)] += 1e-8\n\n    # Use the built-in Cholesky-decomposition to solve\n    alpha_cm = cho_solve(K_cm, Y_cm_train)\n\n    # calculate a kernel matrix between test and training data, using the same sigma\n    K_cm_test = gaussian_kernel(X_cm_test, X_cm_train, sigma)\n\n    # Make the predictions\n    Y_cm_predicted = np.dot(K_cm_test, alpha_cm)\n\n    # Calculate mean-absolute-error (MAE), the units are Hartree\n    test_MAE = np.mean(np.abs(Y_cm_predicted - Y_cm_test))\n    test_maes.append(test_MAE)",
   "metadata": {
    "tags": [],
    "cell_id": "00039-c2a4537c-63ef-45c8-b7ab-b896eda36880",
    "deepnote_to_be_reexecuted": false,
    "source_hash": "96aa2834",
    "execution_start": 1622972655365,
    "execution_millis": 62770,
    "deepnote_cell_type": "code"
   },
   "outputs": [],
   "execution_count": 55
  },
  {
   "cell_type": "code",
   "source": "fig, ax = plt.subplots()\n\nax.plot(sigmas, test_maes)\nax.set_ylim([0,0.1])\nplt.show()\n",
   "metadata": {
    "tags": [],
    "cell_id": "00040-cb610ea2-31ff-4a31-97d6-b5aee3647937",
    "deepnote_to_be_reexecuted": false,
    "source_hash": "d1033179",
    "execution_start": 1622972871623,
    "execution_millis": 148,
    "deepnote_cell_type": "code"
   },
   "outputs": [
    {
     "data": {
      "text/plain": "<Figure size 432x288 with 1 Axes>",
      "image/png": "[encoded data removed]"
     },
     "metadata": {
      "needs_background": "light",
      "image/png": {
       "width": 378,
       "height": 252
      }
     },
     "output_type": "display_data"
    }
   ],
   "execution_count": 58
  },
  {
   "cell_type": "code",
   "source": "best_sigma = sigmas[np.argmin(test_maes)]",
   "metadata": {
    "tags": [],
    "cell_id": "00041-34cbd1c3-cea2-40b2-9550-81a8b423cfc6",
    "deepnote_to_be_reexecuted": false,
    "source_hash": "8b2e93b",
    "execution_start": 1622972899955,
    "execution_millis": 1,
    "deepnote_cell_type": "code"
   },
   "outputs": [],
   "execution_count": 59
  },
  {
   "cell_type": "code",
   "source": "print('Best sigma:', best_sigma)",
   "metadata": {
    "tags": [],
    "cell_id": "00042-2f1d4bd0-7865-4537-8097-e79df3b184ad",
    "deepnote_to_be_reexecuted": false,
    "source_hash": "583894ed",
    "execution_start": 1622972914140,
    "execution_millis": 9,
    "deepnote_cell_type": "code"
   },
   "outputs": [
    {
     "name": "stdout",
     "text": "Best sigma: 3000\n",
     "output_type": "stream"
    }
   ],
   "execution_count": 61
  },
  {
   "cell_type": "code",
   "metadata": {
    "tags": [],
    "cell_id": "00038-98bff6f2-999a-4c9e-a952-cdef65a938bd",
    "deepnote_to_be_reexecuted": false,
    "source_hash": "d3c007ec",
    "execution_start": 1622972924935,
    "execution_millis": 4,
    "deepnote_cell_type": "code"
   },
   "source": "#Now we create kernel using selected training data\n# Define the kernel width\nsigma = 3000.0\n\n# K is also a Numpy array\nK_cm = gaussian_kernel(X_cm_train, X_cm_train, sigma)",
   "execution_count": 62,
   "outputs": []
  },
  {
   "cell_type": "code",
   "metadata": {
    "tags": [],
    "cell_id": "00020-d84c2681-8e6d-4591-b752-130579224896",
    "deepnote_to_be_reexecuted": false,
    "source_hash": "8aa4dc1b",
    "execution_start": 1622972924946,
    "execution_millis": 2851,
    "deepnote_cell_type": "code"
   },
   "source": "\n# Add a small lambda to the diagonal of the kernel matrix\nK_cm[np.diag_indices_from(K_cm)] += 1e-8\n\n# Use the built-in Cholesky-decomposition to solve\nalpha_cm = cho_solve(K_cm, Y_cm_train)\n\nprint(alpha_cm)",
   "execution_count": 63,
   "outputs": [
    {
     "name": "stdout",
     "text": "[-2659204.2506651  -2033827.31929588 -1026129.22437336 ...  3789200.02046454   871048.1647224\n -1829868.03970154]\n",
     "output_type": "stream"
    }
   ]
  },
  {
   "cell_type": "code",
   "metadata": {
    "tags": [],
    "cell_id": "00038-eeebee9a-b082-4637-9c88-d4fe685f7210",
    "deepnote_to_be_reexecuted": false,
    "source_hash": "10759037",
    "execution_start": 1622972994354,
    "execution_millis": 16,
    "deepnote_cell_type": "code"
   },
   "source": "# calculate a kernel matrix between test and training data, using the same sigma\nK_cm_test = gaussian_kernel(X_cm_test, X_cm_train, sigma)\n\n# Make the predictions\nY_cm_predicted = np.dot(K_cm_test, alpha_cm)\n\n# Calculate mean-absolute-error (MAE), the units are Hartree\nprint('MAE: ', np.mean(np.abs(Y_cm_predicted - Y_cm_test)), 'Ha')",
   "execution_count": 66,
   "outputs": [
    {
     "name": "stdout",
     "text": "MAE:  0.04133175857007983 Ha\n",
     "output_type": "stream"
    }
   ]
  },
  {
   "cell_type": "markdown",
   "source": "Now try yorself with different sigma or different size of the training set:\n\n",
   "metadata": {
    "tags": [],
    "cell_id": "00039-484fdc42-6ea8-4351-9802-4362839652d7",
    "deepnote_cell_type": "markdown"
   }
  },
  {
   "cell_type": "code",
   "metadata": {
    "tags": [],
    "cell_id": "00039-53ffedc7-28b1-4114-9876-d8e1bb18cf98",
    "deepnote_to_be_reexecuted": false,
    "source_hash": "c1300675",
    "execution_start": 1622973126238,
    "execution_millis": 371,
    "deepnote_cell_type": "code"
   },
   "source": "fig, axes = plt.subplots(ncols=2, figsize=[12,4])\naxes[0].scatter(Y_cm_test, Y_cm_predicted)\naxes[1].hist(Y_cm_test - Y_cm_predicted, bins=50, range=[-0.5,0.5])\nplt.show()",
   "execution_count": 74,
   "outputs": [
    {
     "data": {
      "text/plain": "<Figure size 864x288 with 2 Axes>",
      "image/png": "[encoded data removed]"
     },
     "metadata": {
      "needs_background": "light",
      "image/png": {
       "width": 718,
       "height": 248
      }
     },
     "output_type": "display_data"
    }
   ]
  },
  {
   "cell_type": "code",
   "metadata": {
    "tags": [],
    "cell_id": "00041-80e86e4b-b9f3-4a1d-ac97-5bb3e1a98d97",
    "deepnote_cell_type": "code"
   },
   "source": "",
   "execution_count": null,
   "outputs": []
  },
  {
   "cell_type": "markdown",
   "source": "### BoB\n\nWrite a short code to train the data with Bob representation:",
   "metadata": {
    "tags": [],
    "cell_id": "00041-fb6962c2-4749-428c-a8b2-aea4b8ab2c51",
    "deepnote_cell_type": "markdown"
   }
  },
  {
   "cell_type": "code",
   "metadata": {
    "tags": [],
    "cell_id": "00044-ff5351e3-41e3-4822-b955-959dd3c4a041",
    "deepnote_cell_type": "code"
   },
   "source": "",
   "execution_count": null,
   "outputs": []
  },
  {
   "cell_type": "markdown",
   "source": "### SLATM\n\nFinally, try the same exercise with SLATM:",
   "metadata": {
    "tags": [],
    "cell_id": "00045-47d34043-d306-40dd-9cc5-195d1596893c",
    "deepnote_cell_type": "markdown"
   }
  },
  {
   "cell_type": "markdown",
   "source": "<a style='text-decoration:none;line-height:16px;display:flex;color:#5B5B62;padding:10px;justify-content:end;' href='https://deepnote.com?utm_source=created-in-deepnote-cell&projectId=9c5b533d-8121-454d-9fa0-cbfc9a47c2e1' target=\"_blank\">\n<img alt='Created in deepnote.com' style='display:inline;max-height:16px;margin:0px;margin-right:7.5px;' src='data:image/svg+xml;base64,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' > </img>\nCreated in <span style='font-weight:600;margin-left:4px;'>Deepnote</span></a>",
   "metadata": {
    "tags": [],
    "created_in_deepnote_cell": true,
    "deepnote_cell_type": "markdown"
   }
  }
 ],
 "nbformat": 4,
 "nbformat_minor": 2,
 "metadata": {
  "orig_nbformat": 2,
  "deepnote": {
   "is_reactive": false
  },
  "deepnote_notebook_id": "d1bea665-99df-4215-9dbc-c686d8dc2cb2",
  "deepnote_execution_queue": []
 }
}